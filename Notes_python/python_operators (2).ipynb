{
 "cells": [
  {
   "cell_type": "markdown",
   "id": "3d54a190",
   "metadata": {},
   "source": [
    "# Python Operators"
   ]
  },
  {
   "cell_type": "markdown",
   "id": "f6a6c8a8",
   "metadata": {},
   "source": [
    "Python operators are special symbols or keywords that perform operations on one or more operands. They are fundamental to programming in Python, as they enable you to perform calculations, comparisons, and other operations on variables and values. Operators can be categorized into several types:"
   ]
  },
  {
   "cell_type": "markdown",
   "id": "fca60319",
   "metadata": {},
   "source": [
    "1. **Arithmetic Operators**"
   ]
  },
  {
   "cell_type": "markdown",
   "id": "2c3549ad",
   "metadata": {},
   "source": [
    "2. **Comparison (Relational) Operators**"
   ]
  },
  {
   "cell_type": "markdown",
   "id": "e446025a",
   "metadata": {},
   "source": [
    "3. **Logical (Boolean) Operators**"
   ]
  },
  {
   "cell_type": "markdown",
   "id": "ab95e69f",
   "metadata": {},
   "source": [
    "4. **Bitwise Operators**"
   ]
  },
  {
   "cell_type": "markdown",
   "id": "ff08b745",
   "metadata": {},
   "source": [
    "5. **Assignment Operators**"
   ]
  },
  {
   "cell_type": "markdown",
   "id": "e4b31106",
   "metadata": {},
   "source": [
    "6. **Identity Operators**"
   ]
  },
  {
   "cell_type": "markdown",
   "id": "17b794d1",
   "metadata": {},
   "source": [
    "7. **Membership Operators**"
   ]
  },
  {
   "cell_type": "markdown",
   "id": "721915d4",
   "metadata": {},
   "source": [
    "## 1. Arithmetic Operators"
   ]
  },
  {
   "cell_type": "markdown",
   "id": "6292fdbd",
   "metadata": {},
   "source": [
    "These operators are used to perform mathematical calculations."
   ]
  },
  {
   "cell_type": "markdown",
   "id": "8a6dd945",
   "metadata": {},
   "source": [
    "- **Addition (`+`)**: Adds two numbers."
   ]
  },
  {
   "cell_type": "code",
   "execution_count": null,
   "id": "103deba5",
   "metadata": {},
   "outputs": [],
   "source": [
    "\n",
    "a = 5\n",
    "b = 3\n",
    "result = a + b  # result = 8\n"
   ]
  },
  {
   "cell_type": "markdown",
   "id": "759c3c94",
   "metadata": {},
   "source": [
    "- **Subtraction (`-`)**: Subtracts one number from another."
   ]
  },
  {
   "cell_type": "code",
   "execution_count": null,
   "id": "5a7f2a8f",
   "metadata": {},
   "outputs": [],
   "source": [
    "\n",
    "result = a - b  # result = 2\n"
   ]
  },
  {
   "cell_type": "markdown",
   "id": "374195bc",
   "metadata": {},
   "source": [
    "- **Multiplication (`*`)**: Multiplies two numbers."
   ]
  },
  {
   "cell_type": "code",
   "execution_count": null,
   "id": "b2c8cb10",
   "metadata": {},
   "outputs": [],
   "source": [
    "\n",
    "result = a * b  # result = 15\n"
   ]
  },
  {
   "cell_type": "markdown",
   "id": "3090baea",
   "metadata": {},
   "source": [
    "- **Division (`/`)**: Divides one number by another."
   ]
  },
  {
   "cell_type": "code",
   "execution_count": null,
   "id": "a59069c2",
   "metadata": {},
   "outputs": [],
   "source": [
    "\n",
    "result = a / b  # result = 1.6666666666666667\n"
   ]
  },
  {
   "cell_type": "markdown",
   "id": "0bb584a2",
   "metadata": {},
   "source": [
    "- **Floor Division (`//`)**: Divides one number by another and returns the largest integer less than or equal to the result."
   ]
  },
  {
   "cell_type": "code",
   "execution_count": null,
   "id": "04adf435",
   "metadata": {},
   "outputs": [],
   "source": [
    "\n",
    "result = a // b  # result = 1\n"
   ]
  },
  {
   "cell_type": "markdown",
   "id": "6f862dcb",
   "metadata": {},
   "source": [
    "- **Modulus (`%`)**: Returns the remainder of the division."
   ]
  },
  {
   "cell_type": "code",
   "execution_count": null,
   "id": "08befafc",
   "metadata": {},
   "outputs": [],
   "source": [
    "\n",
    "result = a % b  # result = 2\n"
   ]
  },
  {
   "cell_type": "markdown",
   "id": "fc28d2cb",
   "metadata": {},
   "source": [
    "- **Exponentiation (`**`)**: Raises a number to the power of another."
   ]
  },
  {
   "cell_type": "code",
   "execution_count": null,
   "id": "213d1a65",
   "metadata": {},
   "outputs": [],
   "source": [
    "\n",
    "result = a ** b  # result = 125\n"
   ]
  },
  {
   "cell_type": "markdown",
   "id": "527b9b86",
   "metadata": {},
   "source": [
    "## 2. Comparison (Relational) Operators"
   ]
  },
  {
   "cell_type": "markdown",
   "id": "ab1cd7d8",
   "metadata": {},
   "source": [
    "These operators compare two values and return a Boolean result (`True` or `False`)."
   ]
  },
  {
   "cell_type": "markdown",
   "id": "c40ab99c",
   "metadata": {},
   "source": [
    "- **Equal to (`==`)**: Checks if two values are equal."
   ]
  },
  {
   "cell_type": "code",
   "execution_count": null,
   "id": "3b6588e6",
   "metadata": {},
   "outputs": [],
   "source": [
    "\n",
    "result = (a == b)  # result = False\n"
   ]
  },
  {
   "cell_type": "markdown",
   "id": "4c1d3a78",
   "metadata": {},
   "source": [
    "- **Not equal to (`!=`)**: Checks if two values are not equal."
   ]
  },
  {
   "cell_type": "code",
   "execution_count": null,
   "id": "5f080436",
   "metadata": {},
   "outputs": [],
   "source": [
    "\n",
    "result = (a != b)  # result = True\n"
   ]
  },
  {
   "cell_type": "markdown",
   "id": "9439def0",
   "metadata": {},
   "source": [
    "- **Greater than (`>`)**: Checks if the left value is greater than the right."
   ]
  },
  {
   "cell_type": "code",
   "execution_count": null,
   "id": "f00c5de1",
   "metadata": {},
   "outputs": [],
   "source": [
    "\n",
    "result = (a > b)  # result = True\n"
   ]
  },
  {
   "cell_type": "markdown",
   "id": "d1f355a8",
   "metadata": {},
   "source": [
    "- **Less than (`<`)**: Checks if the left value is less than the right."
   ]
  },
  {
   "cell_type": "code",
   "execution_count": null,
   "id": "5617b23d",
   "metadata": {},
   "outputs": [],
   "source": [
    "\n",
    "result = (a < b)  # result = False\n"
   ]
  },
  {
   "cell_type": "markdown",
   "id": "e79a6da0",
   "metadata": {},
   "source": [
    "- **Greater than or equal to (`>=`)**: Checks if the left value is greater than or equal to the right."
   ]
  },
  {
   "cell_type": "code",
   "execution_count": null,
   "id": "c23abfa9",
   "metadata": {},
   "outputs": [],
   "source": [
    "\n",
    "result = (a >= b)  # result = True\n"
   ]
  },
  {
   "cell_type": "markdown",
   "id": "cb388ef9",
   "metadata": {},
   "source": [
    "- **Less than or equal to (`<=`)**: Checks if the left value is less than or equal to the right."
   ]
  },
  {
   "cell_type": "code",
   "execution_count": null,
   "id": "15e8d863",
   "metadata": {},
   "outputs": [],
   "source": [
    "\n",
    "result = (a <= b)  # result = False\n"
   ]
  },
  {
   "cell_type": "markdown",
   "id": "ba59f086",
   "metadata": {},
   "source": [
    "## 3. Logical (Boolean) Operators"
   ]
  },
  {
   "cell_type": "markdown",
   "id": "9564badb",
   "metadata": {},
   "source": [
    "These operators are used to perform logical operations and combine Boolean expressions."
   ]
  },
  {
   "cell_type": "markdown",
   "id": "6f4857dd",
   "metadata": {},
   "source": [
    "- **AND (`and`)**: Returns `True` if both operands are true."
   ]
  },
  {
   "cell_type": "code",
   "execution_count": null,
   "id": "1b5e5c12",
   "metadata": {},
   "outputs": [],
   "source": [
    "\n",
    "result = (a > 0 and b > 0)  # result = True\n"
   ]
  },
  {
   "cell_type": "markdown",
   "id": "f843b28f",
   "metadata": {},
   "source": [
    "- **OR (`or`)**: Returns `True` if at least one operand is true."
   ]
  },
  {
   "cell_type": "code",
   "execution_count": null,
   "id": "ea9fe6ae",
   "metadata": {},
   "outputs": [],
   "source": [
    "\n",
    "result = (a > 0 or b < 0)  # result = True\n"
   ]
  },
  {
   "cell_type": "markdown",
   "id": "3bcfd5ae",
   "metadata": {},
   "source": [
    "- **NOT (`not`)**: Returns `True` if the operand is false, and vice versa."
   ]
  },
  {
   "cell_type": "code",
   "execution_count": null,
   "id": "a966d348",
   "metadata": {},
   "outputs": [],
   "source": [
    "\n",
    "result = not (a > 0)  # result = False\n"
   ]
  },
  {
   "cell_type": "markdown",
   "id": "0c3d8e2f",
   "metadata": {},
   "source": [
    "## 4. Bitwise Operators"
   ]
  },
  {
   "cell_type": "markdown",
   "id": "d3ffd70d",
   "metadata": {},
   "source": [
    "These operators perform bit-level operations on integers."
   ]
  },
  {
   "cell_type": "markdown",
   "id": "a0783a4e",
   "metadata": {},
   "source": [
    "- **AND (`&`)**: Performs bitwise AND."
   ]
  },
  {
   "cell_type": "code",
   "execution_count": null,
   "id": "136ec576",
   "metadata": {},
   "outputs": [],
   "source": [
    "\n",
    "result = a & b  # result = 1\n"
   ]
  },
  {
   "cell_type": "markdown",
   "id": "a812a9d9",
   "metadata": {},
   "source": [
    "- **OR (`|`)**: Performs bitwise OR."
   ]
  },
  {
   "cell_type": "code",
   "execution_count": null,
   "id": "696bd17c",
   "metadata": {},
   "outputs": [],
   "source": [
    "\n",
    "result = a | b  # result = 7\n"
   ]
  },
  {
   "cell_type": "markdown",
   "id": "736aa191",
   "metadata": {},
   "source": [
    "- **XOR (`^`)**: Performs bitwise XOR."
   ]
  },
  {
   "cell_type": "code",
   "execution_count": null,
   "id": "24e7d718",
   "metadata": {},
   "outputs": [],
   "source": [
    "\n",
    "result = a ^ b  # result = 6\n"
   ]
  },
  {
   "cell_type": "markdown",
   "id": "56376d1d",
   "metadata": {},
   "source": [
    "- **NOT (`~`)**: Inverts all the bits."
   ]
  },
  {
   "cell_type": "code",
   "execution_count": null,
   "id": "a257f31a",
   "metadata": {},
   "outputs": [],
   "source": [
    "\n",
    "result = ~a  # result = -6\n"
   ]
  },
  {
   "cell_type": "markdown",
   "id": "6ae0c6f4",
   "metadata": {},
   "source": [
    "- **Left Shift (`<<`)**: Shifts the bits to the left by the specified number of positions."
   ]
  },
  {
   "cell_type": "code",
   "execution_count": null,
   "id": "a74d0824",
   "metadata": {},
   "outputs": [],
   "source": [
    "\n",
    "result = a << 1  # result = 10\n"
   ]
  },
  {
   "cell_type": "markdown",
   "id": "16773581",
   "metadata": {},
   "source": [
    "- **Right Shift (`>>`)**: Shifts the bits to the right by the specified number of positions."
   ]
  },
  {
   "cell_type": "code",
   "execution_count": null,
   "id": "58c60d97",
   "metadata": {},
   "outputs": [],
   "source": [
    "\n",
    "result = a >> 1  # result = 2\n"
   ]
  },
  {
   "cell_type": "markdown",
   "id": "ae61c14c",
   "metadata": {},
   "source": [
    "## 5. Assignment Operators"
   ]
  },
  {
   "cell_type": "markdown",
   "id": "497a350b",
   "metadata": {},
   "source": [
    "These operators are used to assign values to variables and can also include arithmetic operations."
   ]
  },
  {
   "cell_type": "markdown",
   "id": "8e44541c",
   "metadata": {},
   "source": [
    "- **Assignment (`=`)**: Assigns the value on the right to the variable on the left."
   ]
  },
  {
   "cell_type": "code",
   "execution_count": null,
   "id": "ea769fa0",
   "metadata": {},
   "outputs": [],
   "source": [
    "\n",
    "a = 10\n"
   ]
  },
  {
   "cell_type": "markdown",
   "id": "f1b36c00",
   "metadata": {},
   "source": [
    "- **Add and assign (`+=`)**: Adds the right operand to the left operand and assigns the result to the left operand."
   ]
  },
  {
   "cell_type": "code",
   "execution_count": null,
   "id": "08a2a176",
   "metadata": {},
   "outputs": [],
   "source": [
    "\n",
    "a += b  # a = 13\n"
   ]
  },
  {
   "cell_type": "markdown",
   "id": "83a54434",
   "metadata": {},
   "source": [
    "- **Subtract and assign (`-=`), Multiply and assign (`*=`), Divide and assign (`/=`), etc.**: Similar operations for other arithmetic operators."
   ]
  },
  {
   "cell_type": "markdown",
   "id": "1a2add61",
   "metadata": {},
   "source": [
    "## 6. Identity Operators"
   ]
  },
  {
   "cell_type": "markdown",
   "id": "217b6700",
   "metadata": {},
   "source": [
    "These operators are used to compare the memory locations of two objects."
   ]
  },
  {
   "cell_type": "markdown",
   "id": "e7eda802",
   "metadata": {},
   "source": [
    "- **is**: Returns `True` if two variables point to the same object."
   ]
  },
  {
   "cell_type": "code",
   "execution_count": null,
   "id": "b0935145",
   "metadata": {},
   "outputs": [],
   "source": [
    "\n",
    "x = [1, 2, 3]\n",
    "y = x\n",
    "result = (x is y)  # result = True\n"
   ]
  },
  {
   "cell_type": "markdown",
   "id": "f33adfd4",
   "metadata": {},
   "source": [
    "- **is not**: Returns `True` if two variables do not point to the same object."
   ]
  },
  {
   "cell_type": "code",
   "execution_count": null,
   "id": "5719ee28",
   "metadata": {},
   "outputs": [],
   "source": [
    "\n",
    "z = [1, 2, 3]\n",
    "result = (x is not z)  # result = True\n"
   ]
  },
  {
   "cell_type": "markdown",
   "id": "107441f9",
   "metadata": {},
   "source": [
    "## 7. Membership Operators"
   ]
  },
  {
   "cell_type": "markdown",
   "id": "ecd90542",
   "metadata": {},
   "source": [
    "These operators are used to test if a value is present in a sequence."
   ]
  },
  {
   "cell_type": "markdown",
   "id": "478e8dc0",
   "metadata": {},
   "source": [
    "- **in**: Returns `True` if the value is found in the sequence."
   ]
  },
  {
   "cell_type": "code",
   "execution_count": null,
   "id": "7cca1a6b",
   "metadata": {},
   "outputs": [],
   "source": [
    "\n",
    "result = (2 in x)  # result = True\n"
   ]
  },
  {
   "cell_type": "markdown",
   "id": "ff2eafc6",
   "metadata": {},
   "source": [
    "- **not in**: Returns `True` if the value is not found in the sequence."
   ]
  },
  {
   "cell_type": "code",
   "execution_count": null,
   "id": "a66a68b6",
   "metadata": {},
   "outputs": [],
   "source": [
    "\n",
    "result = (4 not in x)  # result = True\n"
   ]
  }
 ],
 "metadata": {},
 "nbformat": 4,
 "nbformat_minor": 5
}
