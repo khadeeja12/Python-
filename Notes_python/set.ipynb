{
  "cells": [
    {
      "cell_type": "markdown",
      "metadata": {
        "id": "mOi1IiV6u2hU"
      },
      "source": [
        "# Set and Set Operations\n",
        "In mathematics and computer science, a set is a collection of distinct objects, considered as an object in its own right. Here's a basic rundown of sets and common set operations:\n",
        "\n",
        "## 1. Definition of a Set\n",
        "A set is a collection of elements or members. For example:\n",
        "- $A = \\{1, 2, 3\\}$\n",
        "- $B = \\{a, b, c\\}$\n",
        "\n",
        "## 2. Set Operations\n",
        "\n",
        "### Union\n",
        "The union of two sets $A$ and $B$ is a set containing all the elements that are in $A$, $B$, or both. The union is denoted by $A \\cup B$.\n",
        "\n",
        "**Example:**\n",
        "- Let $A = \\{1, 2, 3\\}$\n",
        "- Let $B = \\{3, 4, 5\\}$\n",
        "- $A \\cup B = \\{1, 2, 3, 4, 5\\}$\n",
        "\n",
        "### Intersection\n",
        "The intersection of two sets $A$ and $B$ is a set containing only the elements that are in both $A$ and $B$. The intersection is denoted by $A \\cap B$.\n",
        "\n",
        "**Example:**\n",
        "- Let $A = \\{1, 2, 3\\}$\n",
        "- Let $B = \\{3, 4, 5\\}$\n",
        "- $A \\cap B = \\{3\\}$\n",
        "\n",
        "### Difference\n",
        "The difference between two sets $A$ and $B$ (also called the relative complement) is a set containing the elements that are in $A$ but not in $B$. The difference is denoted by $A - B$ or $A \\setminus B$.\n",
        "\n",
        "**Example:**\n",
        "- Let $A = \\{1, 2, 3\\}$\n",
        "- Let $B = \\{3, 4, 5\\}$\n",
        "- $A - B = \\{1, 2\\}$\n",
        "\n",
        "### Symmetric Difference\n",
        "The symmetric difference of two sets $A$ and $B$ is a set containing elements that are in either $A$ or $B$, but not in both. The symmetric difference is denoted by $A \\Delta B$.\n",
        "\n",
        "**Example:**\n",
        "- Let $A = \\{1, 2, 3\\}$\n",
        "- Let $B = \\{3, 4, 5\\}$\n",
        "- $A \\Delta B = \\{1, 2, 4, 5\\}$\n",
        "\n",
        "### Subset\n",
        "A set $A$ is a subset of a set $B$ if all elements of $A$ are also elements of $B$. This is denoted by $A \\subseteq B$.\n",
        "\n",
        "**Example:**\n",
        "- Let $A = \\{1, 2\\}$\n",
        "- Let $B = \\{1, 2, 3\\}$\n",
        "- $A \\subseteq B$ (True)\n",
        "\n",
        "### Proper Subset\n",
        "A set $A$ is a proper subset of $B$ if $A \\subseteq B$ and $A \\ne B$. This is denoted by $A \\subset B$.\n",
        "\n",
        "**Example:**\n",
        "- Let $A = \\{1, 2\\}$\n",
        "- Let $B = \\{1, 2, 3\\}$\n",
        "- $A \\subset B$ (True)\n",
        "\n",
        "### Power Set\n",
        "The power set of a set $A$ is the set of all possible subsets of $A$. This is denoted by $\\mathcal{P}(A)$.\n",
        "\n",
        "**Example:**\n",
        "- Let $A = \\{1, 2\\}$\n",
        "- The power set of $A$ is $\\mathcal{P}(A) = \\{\\emptyset, \\{1\\}, \\{2\\}, \\{1, 2\\}\\}$\n"
      ],
      "id": "mOi1IiV6u2hU"
    },
    {
      "cell_type": "code",
      "execution_count": null,
      "metadata": {
        "id": "gehZch9Ru2hV"
      },
      "outputs": [],
      "source": [],
      "id": "gehZch9Ru2hV"
    }
  ],
  "metadata": {
    "kernelspec": {
      "display_name": "Python 3",
      "language": "python",
      "name": "python3"
    },
    "language_info": {
      "codemirror_mode": {
        "name": "ipython",
        "version": 3
      },
      "file_extension": ".py",
      "mimetype": "text/x-python",
      "name": "python",
      "nbconvert_exporter": "python",
      "pygments_lexer": "ipython3",
      "version": "3.8.5"
    },
    "colab": {
      "provenance": []
    }
  },
  "nbformat": 4,
  "nbformat_minor": 5
}