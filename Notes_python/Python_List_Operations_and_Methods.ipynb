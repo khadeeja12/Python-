{
 "cells": [
  {
   "cell_type": "markdown",
   "id": "dfc4efce",
   "metadata": {},
   "source": [
    "# Python List and List Operations with Examples"
   ]
  },
  {
   "cell_type": "markdown",
   "id": "a97f79c4",
   "metadata": {},
   "source": [
    "### 1. Introduction to Python Lists\n",
    "- A list is a collection data type that is ordered and mutable (modifiable).\n",
    "- Lists can contain elements of different data types, including numbers, strings, and other lists."
   ]
  },
  {
   "cell_type": "code",
   "execution_count": null,
   "id": "207fb4d0",
   "metadata": {},
   "outputs": [],
   "source": [
    "# List Creation\n",
    "my_list = [1, 2, 3, 4, 5]\n",
    "mixed_list = [1, \"apple\", 3.14, [5, 6]]\n",
    "my_list, mixed_list"
   ]
  },
  {
   "cell_type": "markdown",
   "id": "0129d21b",
   "metadata": {},
   "source": [
    "### 2. List Indexing and Slicing\n",
    "- **Indexing**: Accessing individual elements using index (starting from 0).\n",
    "- **Slicing**: Accessing a range of elements."
   ]
  },
  {
   "cell_type": "code",
   "execution_count": null,
   "id": "f5ff9960",
   "metadata": {},
   "outputs": [],
   "source": [
    "# Indexing\n",
    "print(my_list[0])  # Output: 1\n",
    "print(my_list[-1]) # Output: 5\n",
    "\n",
    "# Slicing\n",
    "print(my_list[1:3])  # Output: [2, 3]\n",
    "print(my_list[:3])   # Output: [1, 2, 3]\n",
    "print(my_list[2:])   # Output: [3, 4, 5]"
   ]
  },
  {
   "cell_type": "markdown",
   "id": "e602cc34",
   "metadata": {},
   "source": [
    "### 3. List Operations\n",
    "- **Concatenation**: Adding two lists together.\n",
    "- **Repetition**: Repeating a list multiple times.\n",
    "- **Membership**: Checking if an element exists in a list."
   ]
  },
  {
   "cell_type": "code",
   "execution_count": null,
   "id": "0193675a",
   "metadata": {},
   "outputs": [],
   "source": [
    "# Concatenation\n",
    "new_list = my_list + [6, 7]\n",
    "print(new_list)  # Output: [1, 2, 3, 4, 5, 6, 7]\n",
    "\n",
    "# Repetition\n",
    "repeat_list = my_list * 2\n",
    "print(repeat_list)  # Output: [1, 2, 3, 4, 5, 1, 2, 3, 4, 5]\n",
    "\n",
    "# Membership\n",
    "print(3 in my_list)  # Output: True\n",
    "print(10 in my_list) # Output: False"
   ]
  },
  {
   "cell_type": "markdown",
   "id": "0e0b3616",
   "metadata": {},
   "source": [
    "### 4. List Methods\n",
    "- **append()**: Adds an element to the end of the list.\n",
    "- **extend()**: Adds all elements of a list to another list.\n",
    "- **insert()**: Inserts an element at a specified position.\n",
    "- **remove()**: Removes the first occurrence of a specified element.\n",
    "- **pop()**: Removes and returns the element at a specified position.\n",
    "- **sort()**: Sorts the list in ascending order.\n",
    "- **reverse()**: Reverses the elements of the list."
   ]
  },
  {
   "cell_type": "code",
   "execution_count": null,
   "id": "83fc2e7b",
   "metadata": {},
   "outputs": [],
   "source": [
    "# Append\n",
    "my_list.append(6)\n",
    "print(my_list)  # Output: [1, 2, 3, 4, 5, 6]\n",
    "\n",
    "# Extend\n",
    "my_list.extend([7, 8])\n",
    "print(my_list)  # Output: [1, 2, 3, 4, 5, 6, 7, 8]\n",
    "\n",
    "# Insert\n",
    "my_list.insert(2, 'inserted')\n",
    "print(my_list)  # Output: [1, 2, 'inserted', 3, 4, 5, 6, 7, 8]\n",
    "\n",
    "# Remove\n",
    "my_list.remove('inserted')\n",
    "print(my_list)  # Output: [1, 2, 3, 4, 5, 6, 7, 8]\n",
    "\n",
    "# Pop\n",
    "popped_item = my_list.pop(1)\n",
    "print(popped_item)  # Output: 2\n",
    "print(my_list)      # Output: [1, 3, 4, 5, 6, 7, 8]\n",
    "\n",
    "# Sort\n",
    "my_list.sort()\n",
    "print(my_list)  # Output: [1, 3, 4, 5, 6, 7, 8]\n",
    "\n",
    "# Reverse\n",
    "my_list.reverse()\n",
    "print(my_list)  # Output: [8, 7, 6, 5, 4, 3, 1]"
   ]
  }
 ],
 "metadata": {},
 "nbformat": 4,
 "nbformat_minor": 5
}
