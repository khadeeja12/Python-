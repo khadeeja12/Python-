{
  "nbformat": 4,
  "nbformat_minor": 0,
  "metadata": {
    "colab": {
      "provenance": []
    },
    "kernelspec": {
      "name": "python3",
      "display_name": "Python 3"
    },
    "language_info": {
      "name": "python"
    }
  },
  "cells": [
    {
      "cell_type": "code",
      "execution_count": 64,
      "metadata": {
        "colab": {
          "base_uri": "https://localhost:8080/"
        },
        "id": "MySPGKPzlu0J",
        "outputId": "8922713c-12b9-4c84-db8a-57c8db6737f1"
      },
      "outputs": [
        {
          "output_type": "stream",
          "name": "stdout",
          "text": [
            "{'name': 'John', 'age': 40, 'city': 'New York', 'vehicles': ['car', 'bike']}\n"
          ]
        }
      ],
      "source": [
        "a=[\"car\",\"bike\"]\n",
        "\n",
        "\n",
        "b={\n",
        "    \"name\":\"John\",\n",
        "    \"age\":30,\n",
        "    \"age\":40,\n",
        "    \"city\":\"New York\",\n",
        "    \"vehicles\":[\"car\",\"bike\"]\n",
        "}\n",
        "\n",
        "print(b)\n"
      ]
    },
    {
      "cell_type": "code",
      "source": [
        "b[\"name2\"]=\"Bob\"\n",
        "print(b)\n",
        "# b.update({\"name\":\"Bob\"})\n",
        "# print(b)"
      ],
      "metadata": {
        "colab": {
          "base_uri": "https://localhost:8080/"
        },
        "id": "c9SdMAsXrKJ8",
        "outputId": "2221dd5d-480b-451c-8cd4-dd55a4fa977c"
      },
      "execution_count": 66,
      "outputs": [
        {
          "output_type": "stream",
          "name": "stdout",
          "text": [
            "{'name': 'John', 'age': 40, 'city': 'New York', 'vehicles': ['car', 'bike'], 'name2': 'Bob'}\n"
          ]
        }
      ]
    },
    {
      "cell_type": "code",
      "source": [
        "del b[\"city\"]\n",
        "# print(b)\n",
        "\n",
        "age = b.pop(\"age\")\n",
        "print(age)\n",
        "print(b)\n",
        "l=b.popitem()\n",
        "print(l)\n",
        "print(b)"
      ],
      "metadata": {
        "colab": {
          "base_uri": "https://localhost:8080/"
        },
        "id": "d9JzYAvrrbVJ",
        "outputId": "a7795624-1ef2-465a-f154-22ee44eb3fb8"
      },
      "execution_count": 34,
      "outputs": [
        {
          "output_type": "stream",
          "name": "stdout",
          "text": [
            "40\n",
            "{'name': 'John', 'vehicles': ['car', 'bike']}\n",
            "('vehicles', ['car', 'bike'])\n",
            "{'name': 'John'}\n"
          ]
        }
      ]
    },
    {
      "cell_type": "code",
      "source": [
        "b={\n",
        "    \"name\":\"John\",\n",
        "    \"age\":30,\n",
        "    \"city\":\"New York\",\n",
        "    \"vehicles\":[\"car\",\"bike\"]\n",
        "}\n",
        "\n",
        "# for item in b:\n",
        "#     print(item)\n",
        "\n",
        "# for item in b.values():\n",
        "#     print(item)\n",
        "\n",
        "for key,value in b.items():\n",
        "    print(key,value)"
      ],
      "metadata": {
        "colab": {
          "base_uri": "https://localhost:8080/"
        },
        "id": "OxwtsFcRsOYf",
        "outputId": "699307b1-9c0e-4140-f8e3-9bd5c3ff8b1e"
      },
      "execution_count": 32,
      "outputs": [
        {
          "output_type": "stream",
          "name": "stdout",
          "text": [
            "name John\n",
            "age 30\n",
            "city New York\n",
            "vehicles ['car', 'bike']\n"
          ]
        }
      ]
    },
    {
      "cell_type": "code",
      "source": [
        "b={\n",
        "    \"name\":\"John\",\n",
        "    \"age\":30,\n",
        "    \"city\":\"New York\",\n",
        "    \"vehicles\":[\"car\",\"bike\"]\n",
        "}\n",
        "b.clear()\n",
        "print(b)\n",
        "\n"
      ],
      "metadata": {
        "colab": {
          "base_uri": "https://localhost:8080/"
        },
        "id": "sxr7eZsPtazP",
        "outputId": "930bbe69-a77c-49b3-fc17-b391bd2ae371"
      },
      "execution_count": 36,
      "outputs": [
        {
          "output_type": "stream",
          "name": "stdout",
          "text": [
            "{}\n"
          ]
        }
      ]
    },
    {
      "cell_type": "code",
      "source": [
        "b={\n",
        "    \"name\":\"John\",\n",
        "    \"age\":30,\n",
        "    \"city\":\"New York\",\n",
        "    \"vehicles\":[\"car\",\"bike\"]\n",
        "}\n",
        "\n",
        "c=b.copy()\n",
        "print(c)"
      ],
      "metadata": {
        "colab": {
          "base_uri": "https://localhost:8080/"
        },
        "id": "BjpbdexFtzH7",
        "outputId": "252528bb-3d34-4357-93a9-ca7c052d5a3c"
      },
      "execution_count": 38,
      "outputs": [
        {
          "output_type": "stream",
          "name": "stdout",
          "text": [
            "{'name': 'John', 'age': 30, 'city': 'New York', 'vehicles': ['car', 'bike']}\n"
          ]
        }
      ]
    },
    {
      "cell_type": "code",
      "source": [
        "d=b.items()\n",
        "print(d)\n",
        "print(type(d))"
      ],
      "metadata": {
        "colab": {
          "base_uri": "https://localhost:8080/"
        },
        "id": "IfQfYv6St-69",
        "outputId": "5954c742-a876-4dde-ec50-66d04428e545"
      },
      "execution_count": 40,
      "outputs": [
        {
          "output_type": "stream",
          "name": "stdout",
          "text": [
            "dict_items([('name', 'John'), ('age', 30), ('city', 'New York'), ('vehicles', ['car', 'bike'])])\n",
            "<class 'dict_items'>\n"
          ]
        }
      ]
    },
    {
      "cell_type": "code",
      "source": [
        "d=b.keys()\n",
        "print(d)\n",
        "print(type(d))"
      ],
      "metadata": {
        "colab": {
          "base_uri": "https://localhost:8080/"
        },
        "id": "55uEL7JduoXb",
        "outputId": "0ee5f211-cc25-4041-c7e1-4e9a6f2dcd38"
      },
      "execution_count": 41,
      "outputs": [
        {
          "output_type": "stream",
          "name": "stdout",
          "text": [
            "dict_keys(['name', 'age', 'city', 'vehicles'])\n",
            "<class 'dict_keys'>\n"
          ]
        }
      ]
    },
    {
      "cell_type": "code",
      "source": [
        "d=b.values()\n",
        "print(d)\n",
        "print(type(d))"
      ],
      "metadata": {
        "colab": {
          "base_uri": "https://localhost:8080/"
        },
        "id": "BpM-ASdRuzB5",
        "outputId": "296f9192-d21b-457a-9d01-c0a6245c2954"
      },
      "execution_count": 42,
      "outputs": [
        {
          "output_type": "stream",
          "name": "stdout",
          "text": [
            "dict_values(['John', 30, 'New York', ['car', 'bike']])\n",
            "<class 'dict_values'>\n"
          ]
        }
      ]
    },
    {
      "cell_type": "code",
      "source": [
        "b={\n",
        "    \"a\":{\n",
        "        \"name\":\"John\",\n",
        "        \"age\":30,\n",
        "        \"city\":\"New York\",\n",
        "        \"vehicles\":[\"car\",\"bike\"]\n",
        "    },\n",
        "    \"b\": {\n",
        "        \"name\":\"Bob\",\n",
        "        \"age\":30,\n",
        "        \"city\":\"New York\",\n",
        "        \"vehicles\":[\"car\",\"bike\"]\n",
        "    },\n",
        "    \"c\":{\n",
        "        \"name\":\"Bob3\",\n",
        "        \"age\":30,\n",
        "        \"city\":\"New York\",\n",
        "        \"vehicles\":[\"car\",\"bike\"]\n",
        "    }\n",
        "}\n",
        "print(b[\"c\"][\"name\"])"
      ],
      "metadata": {
        "colab": {
          "base_uri": "https://localhost:8080/"
        },
        "id": "_7PY9MCTu5eH",
        "outputId": "22b49439-35a9-4751-a4c0-3531586504b4"
      },
      "execution_count": 51,
      "outputs": [
        {
          "output_type": "stream",
          "name": "stdout",
          "text": [
            "Bob3\n"
          ]
        }
      ]
    },
    {
      "cell_type": "code",
      "source": [
        "def my_function():\n",
        "    print(\"Hello from a function\")\n",
        "\n",
        "\n",
        "my_function()\n"
      ],
      "metadata": {
        "colab": {
          "base_uri": "https://localhost:8080/"
        },
        "id": "zXPUwM9-xJvF",
        "outputId": "3deb7fa6-18f1-4588-9f6e-7e1375b4d955"
      },
      "execution_count": 52,
      "outputs": [
        {
          "output_type": "stream",
          "name": "stdout",
          "text": [
            "Hello from a function\n"
          ]
        }
      ]
    },
    {
      "cell_type": "code",
      "source": [
        "def my_function(name,age):\n",
        "    print(name+age)\n",
        "    print(age)\n",
        "\n",
        "# int myFunction(int a,int b){\n",
        "\n",
        "# }\n",
        "my_function(12,22)\n",
        "my_function(1,22)"
      ],
      "metadata": {
        "colab": {
          "base_uri": "https://localhost:8080/"
        },
        "id": "5ZM4LFv9xn4r",
        "outputId": "46055df2-ecc0-42c8-f62d-82934f40f2e1"
      },
      "execution_count": 63,
      "outputs": [
        {
          "output_type": "stream",
          "name": "stdout",
          "text": [
            "34\n",
            "22\n",
            "23\n",
            "22\n"
          ]
        }
      ]
    },
    {
      "cell_type": "code",
      "source": [
        "list_of_dict=[{\"a\":1},{\"b\":2},{\"c\":3}]\n",
        "print(list_of_dict)"
      ],
      "metadata": {
        "colab": {
          "base_uri": "https://localhost:8080/"
        },
        "id": "D3sPocnHzvqP",
        "outputId": "12b07dd0-0ea5-477e-e5bd-1e77e79975cd"
      },
      "execution_count": 67,
      "outputs": [
        {
          "output_type": "stream",
          "name": "stdout",
          "text": [
            "[{'a': 1}, {'b': 2}, {'c': 3}]\n"
          ]
        }
      ]
    },
    {
      "cell_type": "code",
      "source": [
        "print(list_of_dict[0][\"a\"])"
      ],
      "metadata": {
        "colab": {
          "base_uri": "https://localhost:8080/"
        },
        "id": "LKl4Qw-rz4XT",
        "outputId": "81347538-6e4d-431f-acab-dfc50c7cc939"
      },
      "execution_count": 69,
      "outputs": [
        {
          "output_type": "stream",
          "name": "stdout",
          "text": [
            "1\n"
          ]
        }
      ]
    },
    {
      "cell_type": "code",
      "source": [
        "b={\n",
        "    \"name\":\"John\",\n",
        "    \"age\":30,\n",
        "    \"city\":\"New York\",\n",
        "    \"vehicles\":[\"car\",\"bike\"]\n",
        "}\n",
        "\n",
        "c={\n",
        "    \"name1\":\"John\",\n",
        "    \"age1\":30,\n",
        "    \"city1\":\"New York\",\n",
        "    \"vehicles1\":[\"car\",\"bike\"]\n",
        "}\n",
        "c=b.copy()\n",
        "print(c)"
      ],
      "metadata": {
        "colab": {
          "base_uri": "https://localhost:8080/"
        },
        "id": "vWZ2j2Ad0VM9",
        "outputId": "088bb191-5d95-4888-fdb6-231741739de6"
      },
      "execution_count": 70,
      "outputs": [
        {
          "output_type": "stream",
          "name": "stdout",
          "text": [
            "{'name': 'John', 'age': 30, 'city': 'New York', 'vehicles': ['car', 'bike']}\n"
          ]
        }
      ]
    }
  ]
}