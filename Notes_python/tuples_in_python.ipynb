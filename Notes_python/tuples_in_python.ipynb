{
  "cells": [
    {
      "cell_type": "markdown",
      "id": "09b169b0",
      "metadata": {
        "id": "09b169b0"
      },
      "source": [
        "# Tuples in Python"
      ]
    },
    {
      "cell_type": "markdown",
      "id": "1ccb2cfb",
      "metadata": {
        "id": "1ccb2cfb"
      },
      "source": [
        "### 1. What is a Tuple?"
      ]
    },
    {
      "cell_type": "markdown",
      "id": "1bf5bfb5",
      "metadata": {
        "id": "1bf5bfb5"
      },
      "source": [
        "A tuple is an immutable sequence type in Python. Tuples are similar to lists, but they cannot be changed after their creation. This immutability makes tuples useful for storing data that should not be modified."
      ]
    },
    {
      "cell_type": "markdown",
      "id": "97464cb9",
      "metadata": {
        "id": "97464cb9"
      },
      "source": [
        "### 2. Creating a Tuple"
      ]
    },
    {
      "cell_type": "code",
      "execution_count": 2,
      "id": "2eeb5839",
      "metadata": {
        "colab": {
          "base_uri": "https://localhost:8080/"
        },
        "id": "2eeb5839",
        "outputId": "52c1c2ec-8d33-420f-9019-1b435c46ff40"
      },
      "outputs": [
        {
          "output_type": "stream",
          "name": "stdout",
          "text": [
            "(1, 2, 3)\n",
            "(4, 5, 6)\n",
            "()\n",
            "(7,)\n",
            "('apple', 'orange', 'banana')\n"
          ]
        }
      ],
      "source": [
        "# Creating a tuple\n",
        "my_tuple = (1, 2, 3)\n",
        "print(my_tuple)  # Output: (1, 2, 3)\n",
        "\n",
        "# Creating a tuple without parentheses\n",
        "another_tuple = 4, 5, 6\n",
        "print(another_tuple)  # Output: (4, 5, 6)\n",
        "\n",
        "# Creating an empty tuple\n",
        "empty_tuple = ()\n",
        "print(empty_tuple)  # Output: ()\n",
        "\n",
        "# Single-element tuple (note the comma)\n",
        "single_element_tuple = (7,)\n",
        "print(single_element_tuple)  # Output: (7,)\n",
        "\n",
        "fruits = \"apple\" ,\"orange\" ,\"banana\"\n",
        "print(fruits)"
      ]
    },
    {
      "cell_type": "markdown",
      "id": "a74ae45c",
      "metadata": {
        "id": "a74ae45c"
      },
      "source": [
        "### Tuple Operations"
      ]
    },
    {
      "cell_type": "markdown",
      "id": "2ceb6cff",
      "metadata": {
        "id": "2ceb6cff"
      },
      "source": [
        "#### 1. Accessing Elements"
      ]
    },
    {
      "cell_type": "code",
      "execution_count": 3,
      "id": "5fc47195",
      "metadata": {
        "colab": {
          "base_uri": "https://localhost:8080/"
        },
        "id": "5fc47195",
        "outputId": "94b8fb34-8cac-475b-a815-872de5b83309"
      },
      "outputs": [
        {
          "output_type": "stream",
          "name": "stdout",
          "text": [
            "10\n",
            "40\n"
          ]
        }
      ],
      "source": [
        "my_tuple = (10, 20, 30, 40, 50)\n",
        "print(my_tuple[0])  # Output: 10\n",
        "print(my_tuple[3])  # Output: 40"
      ]
    },
    {
      "cell_type": "markdown",
      "id": "c49c7253",
      "metadata": {
        "id": "c49c7253"
      },
      "source": [
        "#### 2. Slicing"
      ]
    },
    {
      "cell_type": "code",
      "execution_count": 4,
      "id": "c8ce12be",
      "metadata": {
        "colab": {
          "base_uri": "https://localhost:8080/"
        },
        "id": "c8ce12be",
        "outputId": "dcb771d1-0163-4608-c933-2687e286c73f"
      },
      "outputs": [
        {
          "output_type": "stream",
          "name": "stdout",
          "text": [
            "(20, 30, 40)\n",
            "(10, 20, 30)\n",
            "(30, 40, 50)\n"
          ]
        }
      ],
      "source": [
        "my_tuple = (10, 20, 30, 40, 50)\n",
        "print(my_tuple[1:4])  # Output: (20, 30, 40)\n",
        "print(my_tuple[:3])   # Output: (10, 20, 30)\n",
        "print(my_tuple[2:])   # Output: (30, 40, 50)"
      ]
    },
    {
      "cell_type": "markdown",
      "id": "d10040e7",
      "metadata": {
        "id": "d10040e7"
      },
      "source": [
        "#### 3. Concatenation and Repetition"
      ]
    },
    {
      "cell_type": "code",
      "execution_count": 9,
      "id": "fc170584",
      "metadata": {
        "colab": {
          "base_uri": "https://localhost:8080/"
        },
        "id": "fc170584",
        "outputId": "1d040349-cc27-4a3a-d1bc-20191e22c220"
      },
      "outputs": [
        {
          "output_type": "stream",
          "name": "stdout",
          "text": [
            "(1, 2, 3, 4, 5, 6)\n",
            "(1, 2, 3, 1, 2, 3, 1, 2, 3)\n",
            "('apple', 'orange', 'apple', 'orange', 'apple', 'orange')\n",
            "('MCA', 'MCA', 'MCA')\n"
          ]
        }
      ],
      "source": [
        "tuple1 = (1, 2, 3)\n",
        "tuple2 = (4, 5, 6)\n",
        "concatenated = tuple1 + tuple2\n",
        "print(concatenated)  # Output: (1, 2, 3, 4, 5, 6)\n",
        "\n",
        "repeated = tuple1 * 3\n",
        "print(repeated)  # Output: (1, 2, 3, 1, 2, 3, 1, 2, 3)\n",
        "print((\"apple\",\"orange\")*3)\n",
        "print((\"MCA\",)*3)"
      ]
    },
    {
      "cell_type": "markdown",
      "id": "b7582927",
      "metadata": {
        "id": "b7582927"
      },
      "source": [
        "#### 4. Membership"
      ]
    },
    {
      "cell_type": "code",
      "execution_count": 10,
      "id": "e5367787",
      "metadata": {
        "colab": {
          "base_uri": "https://localhost:8080/"
        },
        "id": "e5367787",
        "outputId": "3151a178-8e8a-4527-d9f0-0347b5b60ee0"
      },
      "outputs": [
        {
          "output_type": "stream",
          "name": "stdout",
          "text": [
            "True\n",
            "False\n"
          ]
        }
      ],
      "source": [
        "my_tuple = (10, 20, 30, 40, 50)\n",
        "print(20 in my_tuple)  # Output: True\n",
        "print(60 in my_tuple)  # Output: False"
      ]
    },
    {
      "cell_type": "markdown",
      "id": "3b9306df",
      "metadata": {
        "id": "3b9306df"
      },
      "source": [
        "### Tuple Unpacking"
      ]
    },
    {
      "cell_type": "code",
      "execution_count": 11,
      "id": "bf1b7e99",
      "metadata": {
        "colab": {
          "base_uri": "https://localhost:8080/"
        },
        "id": "bf1b7e99",
        "outputId": "8e4c1e08-d4fd-4bc1-b3ef-8766df2523eb"
      },
      "outputs": [
        {
          "output_type": "stream",
          "name": "stdout",
          "text": [
            "100\n",
            "200\n",
            "300\n",
            "1\n",
            "2\n",
            "[3, 4, 5]\n"
          ]
        }
      ],
      "source": [
        "my_tuple = (100, 200, 300)\n",
        "\n",
        "# Unpacking\n",
        "a, b, c = my_tuple\n",
        "print(a)  # Output: 100\n",
        "print(b)  # Output: 200\n",
        "print(c)  # Output: 300\n",
        "\n",
        "# Unpacking with different number of variables\n",
        "my_tuple = (1, 2, 3, 4, 5)\n",
        "\n",
        "# Using the * operator to capture the rest of the values\n",
        "a, b, *rest = my_tuple\n",
        "print(a)    # Output: 1\n",
        "print(b)    # Output: 2\n",
        "print(rest) # Output: [3, 4, 5]"
      ]
    },
    {
      "cell_type": "markdown",
      "id": "88512990",
      "metadata": {
        "id": "88512990"
      },
      "source": [
        "### Other Facts About Tuples"
      ]
    },
    {
      "cell_type": "markdown",
      "id": "fc58bcce",
      "metadata": {
        "id": "fc58bcce"
      },
      "source": [
        "1. **Immutability**: Once created, the elements of a tuple cannot be changed. This immutability makes tuples hashable and suitable for use as dictionary keys."
      ]
    },
    {
      "cell_type": "code",
      "execution_count": 15,
      "id": "2ea2ebc5",
      "metadata": {
        "id": "2ea2ebc5"
      },
      "outputs": [],
      "source": [
        "my_tuple = (10, 20, 30)\n",
        "#my_tuple[1] = 99  # This would raise a TypeError"
      ]
    },
    {
      "cell_type": "markdown",
      "id": "a23bcf7f",
      "metadata": {
        "id": "a23bcf7f"
      },
      "source": [
        "2. **Nested Tuples**: Tuples can contain other tuples as elements."
      ]
    },
    {
      "cell_type": "code",
      "execution_count": 16,
      "id": "dd70a31c",
      "metadata": {
        "colab": {
          "base_uri": "https://localhost:8080/"
        },
        "id": "dd70a31c",
        "outputId": "fc8ff074-c0b7-4088-9366-38518fbbe97b"
      },
      "outputs": [
        {
          "output_type": "stream",
          "name": "stdout",
          "text": [
            "(1, 2, (3, 4, 5))\n"
          ]
        }
      ],
      "source": [
        "nested_tuple = (1, 2, (3, 4, 5))\n",
        "print(nested_tuple)  # Output: (1, 2, (3, 4, 5))"
      ]
    },
    {
      "cell_type": "markdown",
      "id": "31c51bf8",
      "metadata": {
        "id": "31c51bf8"
      },
      "source": [
        "3. **Tuple Methods**: Tuples have only two built-in methods - `count` and `index`."
      ]
    },
    {
      "cell_type": "code",
      "execution_count": 18,
      "id": "b99519f6",
      "metadata": {
        "colab": {
          "base_uri": "https://localhost:8080/"
        },
        "id": "b99519f6",
        "outputId": "b052d6e2-67d7-4257-a8aa-7758df075dcd"
      },
      "outputs": [
        {
          "output_type": "stream",
          "name": "stdout",
          "text": [
            "3\n",
            "1\n"
          ]
        }
      ],
      "source": [
        "my_tuple = (1, 2, 2, 3, 4, 4, 4)\n",
        "print(my_tuple.count(4))  # Output: 3\n",
        "print(my_tuple.index(2))  # Output: 3"
      ]
    },
    {
      "cell_type": "markdown",
      "id": "98f0094a",
      "metadata": {
        "id": "98f0094a"
      },
      "source": [
        "4. **Comparison**: Tuples can be compared. The comparison is done element by element."
      ]
    },
    {
      "cell_type": "code",
      "execution_count": null,
      "id": "a9971ca0",
      "metadata": {
        "id": "a9971ca0"
      },
      "outputs": [],
      "source": [
        "tuple1 = (1, 2, 3)\n",
        "tuple2 = (1, 2, 4)\n",
        "print(tuple1 < tuple2)  # Output: True (because 3 < 4)"
      ]
    }
  ],
  "metadata": {
    "colab": {
      "provenance": []
    },
    "language_info": {
      "name": "python"
    },
    "kernelspec": {
      "name": "python3",
      "display_name": "Python 3"
    }
  },
  "nbformat": 4,
  "nbformat_minor": 5
}