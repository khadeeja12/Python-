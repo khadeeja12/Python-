{
  "cells": [
    {
      "cell_type": "markdown",
      "source": [
        "## **Python IDE**\n",
        "\n",
        "\n",
        "*   Google Collab , Jupiter Notebook\n",
        "*   Pycharm\n",
        "*   VS Code\n",
        "\n",
        "\n",
        "\n",
        "\n",
        "\n",
        "\n"
      ],
      "metadata": {
        "id": "S1C65n1Ihu5m"
      },
      "id": "S1C65n1Ihu5m"
    },
    {
      "cell_type": "markdown",
      "source": [
        "# **Lets Start**\n",
        "\n",
        "\n",
        "\n",
        "*  Indentation in python\n",
        "*  Single line Comments\n",
        "*  Multiline comments\n",
        "\n"
      ],
      "metadata": {
        "id": "QCSNlqBckbbI"
      },
      "id": "QCSNlqBckbbI"
    },
    {
      "cell_type": "code",
      "source": [
        "def check_even(number): #defining function\n",
        "   if nmber % 2 ==0:    '''hi this ia a multi\n",
        "                         line comment'''\n",
        "    print(\"even\")\n",
        "print(\"odd\")\n",
        "\n",
        "\n"
      ],
      "metadata": {
        "colab": {
          "base_uri": "https://localhost:8080/"
        },
        "id": "w9avTvkKJidt",
        "outputId": "6c7ff142-6d47-448a-a14e-d94bbb8f8d74"
      },
      "id": "w9avTvkKJidt",
      "execution_count": 4,
      "outputs": [
        {
          "output_type": "stream",
          "name": "stdout",
          "text": [
            "odd\n"
          ]
        }
      ]
    },
    {
      "cell_type": "markdown",
      "source": [
        "# **Keywords in Python**\n",
        "\n",
        "\n",
        "*   https://www.geeksforgeeks.org/python-keywords/\n",
        "\n",
        "\n"
      ],
      "metadata": {
        "id": "V2MPDdwYCF6W"
      },
      "id": "V2MPDdwYCF6W"
    },
    {
      "cell_type": "code",
      "source": [],
      "metadata": {
        "id": "kAPq8UTRBJCN"
      },
      "execution_count": null,
      "outputs": [],
      "id": "kAPq8UTRBJCN"
    },
    {
      "cell_type": "markdown",
      "source": [],
      "metadata": {
        "id": "YKSH8wPgBIB0"
      },
      "id": "YKSH8wPgBIB0"
    },
    {
      "cell_type": "markdown",
      "source": [
        "## **Variables & Names**\n",
        "\n",
        "\n",
        "1.  Variables , types ( https://www.geeksforgeeks.org/python-variables/ )\n",
        "2.  Naming Conventions : PEP 8 Standards (https://peps.python.org/pep-0008/)\n",
        "\n"
      ],
      "metadata": {
        "id": "EhzBy13wkprP"
      },
      "id": "EhzBy13wkprP"
    },
    {
      "cell_type": "code",
      "source": [],
      "metadata": {
        "id": "UrA4VWGpkrES"
      },
      "execution_count": null,
      "outputs": [],
      "id": "UrA4VWGpkrES"
    },
    {
      "cell_type": "markdown",
      "metadata": {
        "id": "XolB-ieCf5J0"
      },
      "source": [
        "# **Python Formatting Input and Output**\n",
        "In this notebook, we'll explore various techniques for formatting inputs and outputs in Python."
      ],
      "id": "XolB-ieCf5J0"
    },
    {
      "cell_type": "code",
      "execution_count": 10,
      "metadata": {
        "id": "b3d1453e",
        "colab": {
          "base_uri": "https://localhost:8080/"
        },
        "outputId": "28dc9f52-4689-4abd-ba13-e7926a62b2a7"
      },
      "outputs": [
        {
          "output_type": "stream",
          "name": "stdout",
          "text": [
            "5\n",
            "You entered 5\n",
            "<class 'str'>\n",
            "type of converted variable, <class 'int'>\n"
          ]
        }
      ],
      "source": [
        "# Using input() Function\n",
        "user_input = input()\n",
        "#print(\"You entered:\", user_input)\n",
        "print(f\"You entered {user_input}\")\n",
        "print(type(user_input))\n",
        "converted_variable = int(user_input)\n",
        "#print(\"type of converted variable\", type(converted_variable))\n",
        "print(f\"type of converted variable, {type(converted_variable)}\")"
      ],
      "id": "b3d1453e"
    },
    {
      "cell_type": "code",
      "execution_count": null,
      "metadata": {
        "colab": {
          "base_uri": "https://localhost:8080/"
        },
        "id": "76ba0e1e",
        "outputId": "f77754bc-9857-4894-8901-440659729e80"
      },
      "outputs": [
        {
          "output_type": "stream",
          "name": "stdout",
          "text": [
            "Command-line arguments: ['-f', '/root/.local/share/jupyter/runtime/kernel-a58c7d12-0ebb-48cd-852f-7f34a1b0c717.json']\n"
          ]
        }
      ],
      "source": [
        "# Command-Line Arguments\n",
        "import sys\n",
        "\n",
        "if len(sys.argv) > 1:\n",
        "    print(\"Command-line arguments:\", sys.argv[1:])"
      ],
      "id": "76ba0e1e"
    },
    {
      "cell_type": "code",
      "execution_count": null,
      "metadata": {
        "id": "d0ea044e"
      },
      "outputs": [],
      "source": [
        "# Reading from a File\n",
        "with open('input.txt', 'r') as file:\n",
        "    data = file.read()\n",
        "    print(\"File content:\", data)"
      ],
      "id": "d0ea044e"
    },
    {
      "cell_type": "code",
      "execution_count": null,
      "metadata": {
        "colab": {
          "base_uri": "https://localhost:8080/"
        },
        "id": "4a0ab628",
        "outputId": "06b08966-f73f-41f3-d569-b5e2a70252df"
      },
      "outputs": [
        {
          "output_type": "stream",
          "name": "stdout",
          "text": [
            "Enter multiple lines of input (Ctrl+D to end):\n",
            "You entered:\n",
            "\n"
          ]
        }
      ],
      "source": [
        "# Using stdin for Advanced Input Handling\n",
        "import sys   #online compiler\n",
        "\n",
        "print(\"Enter multiple lines of input (Ctrl+D to end):\")\n",
        "data = sys.stdin.read()\n",
        "print(\"You entered:\")\n",
        "print(data)"
      ],
      "id": "4a0ab628"
    },
    {
      "cell_type": "code",
      "execution_count": null,
      "metadata": {
        "colab": {
          "base_uri": "https://localhost:8080/"
        },
        "id": "15cb587a",
        "outputId": "16ca5e99-ca42-4cf0-fad5-2d2c4228b821"
      },
      "outputs": [
        {
          "output_type": "stream",
          "name": "stdout",
          "text": [
            "Parsed JSON: {'name': 'Alice', 'age': 30}\n"
          ]
        }
      ],
      "source": [
        "# Reading JSON Input\n",
        "import json\n",
        "\n",
        "json_input = '{\"name\": \"Alice\", \"age\": 30}'\n",
        "data = json.loads(json_input)\n",
        "print(\"Parsed JSON:\", data)"
      ],
      "id": "15cb587a"
    },
    {
      "cell_type": "code",
      "execution_count": null,
      "metadata": {
        "id": "238c63ca"
      },
      "outputs": [],
      "source": [
        "# Using a GUI Library\n",
        "import tkinter as tk\n",
        "from tkinter import simpledialog\n",
        "\n",
        "root = tk.Tk()\n",
        "root.withdraw()  # Hide the root window\n",
        "\n",
        "user_input = simpledialog.askstring(\"Input\", \"Enter something:\")\n",
        "print(\"You entered:\", user_input)"
      ],
      "id": "238c63ca"
    },
    {
      "cell_type": "code",
      "execution_count": null,
      "metadata": {
        "id": "2864bf92"
      },
      "outputs": [],
      "source": [
        "# Using Web Frameworks\n",
        "from flask import Flask, request\n",
        "\n",
        "app = Flask(__name__)\n",
        "\n",
        "@app.route('/submit', methods=['POST'])\n",
        "def submit():\n",
        "    user_input = request.form['input_field']\n",
        "    return f'You entered: {user_input}'\n",
        "\n",
        "if __name__ == '__main__':\n",
        "    app.run()"
      ],
      "id": "2864bf92"
    },
    {
      "cell_type": "markdown",
      "metadata": {
        "id": "aSq8P1-3f5J3"
      },
      "source": [
        "## **Reading and Formatting Strings**"
      ],
      "id": "aSq8P1-3f5J3"
    },
    {
      "cell_type": "code",
      "execution_count": 11,
      "metadata": {
        "id": "a_rrjjrOf5J3",
        "colab": {
          "base_uri": "https://localhost:8080/"
        },
        "outputId": "3caeeffa-1185-4aa5-a2f3-4dff871548cb"
      },
      "outputs": [
        {
          "output_type": "stream",
          "name": "stdout",
          "text": [
            "Enter your name: signature\n",
            "Hello, Signature!\n"
          ]
        }
      ],
      "source": [
        "# Reading and Formatting Strings\n",
        "user_input = input(\"Enter your name: \").strip().title()\n",
        "print(f\"Hello, {user_input}!\")"
      ],
      "id": "a_rrjjrOf5J3"
    },
    {
      "cell_type": "markdown",
      "metadata": {
        "id": "vahNvpcqf5J4"
      },
      "source": [
        "## **Reading and Formatting Numbers**"
      ],
      "id": "vahNvpcqf5J4"
    },
    {
      "cell_type": "code",
      "execution_count": null,
      "metadata": {
        "id": "iFUXcTVjf5J4"
      },
      "outputs": [],
      "source": [
        "# Reading and Formatting Numbers\n",
        "user_input = input(\"Enter a number: \").strip()\n",
        "try:\n",
        "    number = float(user_input)\n",
        "    print(f\"You entered: {number:.2f}\")\n",
        "except ValueError:\n",
        "    print(\"Invalid number\")"
      ],
      "id": "iFUXcTVjf5J4"
    },
    {
      "cell_type": "markdown",
      "metadata": {
        "id": "89k6daNef5J4"
      },
      "source": [
        "## **String Formatting with f-strings**"
      ],
      "id": "89k6daNef5J4"
    },
    {
      "cell_type": "code",
      "execution_count": null,
      "metadata": {
        "id": "7U-dzim0f5J4"
      },
      "outputs": [],
      "source": [
        "# String Formatting with f-strings\n",
        "name = \"Alice\"\n",
        "age = 30\n",
        "print(f\"{name} is {age} years old.\")"
      ],
      "id": "7U-dzim0f5J4"
    },
    {
      "cell_type": "markdown",
      "metadata": {
        "id": "JAO71GLPf5J4"
      },
      "source": [
        "## String Formatting with `format()` Method"
      ],
      "id": "JAO71GLPf5J4"
    },
    {
      "cell_type": "code",
      "execution_count": null,
      "metadata": {
        "id": "8UUmU1sTf5J4"
      },
      "outputs": [],
      "source": [
        "# String Formatting with `format()` Method\n",
        "name = \"Alice\"\n",
        "age = 30\n",
        "print(\"{} is {} years old.\".format(name, age))"
      ],
      "id": "8UUmU1sTf5J4"
    },
    {
      "cell_type": "markdown",
      "metadata": {
        "id": "uy1S4w3ff5J5"
      },
      "source": [
        "## String Formatting with `%` Operator"
      ],
      "id": "uy1S4w3ff5J5"
    },
    {
      "cell_type": "code",
      "execution_count": null,
      "metadata": {
        "id": "lLPQIpGRf5J5"
      },
      "outputs": [],
      "source": [
        "# String Formatting with `%` Operator\n",
        "name = \"Alice\"\n",
        "age = 30\n",
        "print(\"%s is %d years old.\" % (name, age))"
      ],
      "id": "lLPQIpGRf5J5"
    },
    {
      "cell_type": "markdown",
      "metadata": {
        "id": "CaIOGvixf5J5"
      },
      "source": [
        "## Formatting Numbers"
      ],
      "id": "CaIOGvixf5J5"
    },
    {
      "cell_type": "code",
      "execution_count": null,
      "metadata": {
        "id": "0owswYEcf5J5"
      },
      "outputs": [],
      "source": [
        "# Formatting Numbers\n",
        "pi = 3.141592653589793\n",
        "print(f\"Pi to three decimal places: {pi:.3f}\")"
      ],
      "id": "0owswYEcf5J5"
    },
    {
      "cell_type": "markdown",
      "metadata": {
        "id": "56ZiWm1ff5J5"
      },
      "source": [
        "## Aligning Text"
      ],
      "id": "56ZiWm1ff5J5"
    },
    {
      "cell_type": "code",
      "execution_count": 14,
      "metadata": {
        "id": "3-SxMbVHf5J5",
        "colab": {
          "base_uri": "https://localhost:8080/"
        },
        "outputId": "10267786-9911-43f8-b63c-cea8f695843b"
      },
      "outputs": [
        {
          "output_type": "stream",
          "name": "stdout",
          "text": [
            "Left Aligned              | Center Aligned  |   Right Aligned\n"
          ]
        }
      ],
      "source": [
        "# Aligning Text\n",
        "print(f\"{'Left Aligned':<25} | {'Center Aligned':^15} | {'Right Aligned':>15}\")"
      ],
      "id": "3-SxMbVHf5J5"
    },
    {
      "cell_type": "markdown",
      "metadata": {
        "id": "Gs3v0xfzf5J5"
      },
      "source": [
        "## Example 1: Formatting a Table"
      ],
      "id": "Gs3v0xfzf5J5"
    },
    {
      "cell_type": "code",
      "execution_count": 15,
      "metadata": {
        "id": "O_D5DxNQf5J5",
        "colab": {
          "base_uri": "https://localhost:8080/"
        },
        "outputId": "48d4fd61-94a8-4707-f26f-fbc355a43c44"
      },
      "outputs": [
        {
          "output_type": "stream",
          "name": "stdout",
          "text": [
            "Name       Age   City           \n",
            "Alice      30    New York       \n",
            "Bob        25    Los Angeles    \n",
            "Charlie    35    Chicago        \n"
          ]
        }
      ],
      "source": [
        "# Example 1: Formatting a Table\n",
        "data = [\n",
        "    (\"Name\", \"Age\", \"City\"),\n",
        "    (\"Alice\", 30, \"New York\"),\n",
        "    (\"Bob\", 25, \"Los Angeles\"),\n",
        "    (\"Charlie\", 35, \"Chicago\")\n",
        "]\n",
        "\n",
        "for row in data:\n",
        "    print(f\"{row[0]:<10} {row[1]:<5} {row[2]:<15}\")"
      ],
      "id": "O_D5DxNQf5J5"
    },
    {
      "cell_type": "markdown",
      "metadata": {
        "id": "rJJEzevFf5J5"
      },
      "source": [
        "## Example 2: Displaying Currency"
      ],
      "id": "rJJEzevFf5J5"
    },
    {
      "cell_type": "code",
      "execution_count": null,
      "metadata": {
        "id": "uOEYkKRff5J5"
      },
      "outputs": [],
      "source": [
        "# Example 2: Displaying Currency\n",
        "price = 1234.567\n",
        "print(f\"Price: ${price:,.2f}\")"
      ],
      "id": "uOEYkKRff5J5"
    },
    {
      "cell_type": "markdown",
      "metadata": {
        "id": "KCFPOl9cf5J5"
      },
      "source": [
        "## Example 3: Formatting Dates"
      ],
      "id": "KCFPOl9cf5J5"
    },
    {
      "cell_type": "code",
      "execution_count": null,
      "metadata": {
        "id": "bH2n5Fthf5J6"
      },
      "outputs": [],
      "source": [
        "# Example 3: Formatting Dates\n",
        "from datetime import datetime\n",
        "\n",
        "now = datetime.now()\n",
        "print(f\"Current date and time: {now:%Y-%m-%d %H:%M:%S}\")"
      ],
      "id": "bH2n5Fthf5J6"
    },
    {
      "cell_type": "markdown",
      "metadata": {
        "id": "SdlF_94tf5J6"
      },
      "source": [
        "## Explanation of `input().strip().title()`"
      ],
      "id": "SdlF_94tf5J6"
    },
    {
      "cell_type": "code",
      "execution_count": null,
      "metadata": {
        "id": "EhEz4Bn6f5J6"
      },
      "outputs": [],
      "source": [
        "# Explanation of input().strip().title()\n",
        "user_input = input(\"Enter your name: \").strip().title()\n",
        "print(f\"Processed name: {user_input}\")\n",
        "\n",
        "# Breakdown:\n",
        "# 1. input(\"Enter your name: \") - Prompts the user to enter a name.\n",
        "# 2. .strip() - Removes any leading and trailing whitespace from the input.\n",
        "# 3. .title() - Converts the first character of each word to uppercase and the remaining characters to lowercase.\n",
        "# 4. user_input = - Assigns the processed string to the variable user_input."
      ],
      "id": "EhEz4Bn6f5J6"
    },
    {
      "cell_type": "markdown",
      "metadata": {
        "id": "PxqQe1GYgYcl"
      },
      "source": [
        "# String Alignment in Python\n",
        "\n",
        "This notebook demonstrates how to align strings using f-strings in Python."
      ],
      "id": "PxqQe1GYgYcl"
    },
    {
      "cell_type": "markdown",
      "metadata": {
        "id": "pYSyNcIJgYcn"
      },
      "source": [
        "### Explanation\n",
        "\n",
        "This line of code demonstrates how to format strings using f-strings (formatted string literals) in Python, specifically how to align text within a given width."
      ],
      "id": "pYSyNcIJgYcn"
    },
    {
      "cell_type": "code",
      "metadata": {
        "id": "Mul77m7SgYco"
      },
      "source": [
        "# Example Code\n",
        "print(f\"{'Left Aligned':<15} | {'Center Aligned':^15} | {'Right Aligned':>15}\")"
      ],
      "execution_count": null,
      "outputs": [],
      "id": "Mul77m7SgYco"
    },
    {
      "cell_type": "markdown",
      "metadata": {
        "id": "1uUV7OAtgYco"
      },
      "source": [
        "### Explanation of Each Part\n",
        "\n",
        "1. **f\"...\"**:\n",
        "    - This is an f-string, which allows for embedding expressions inside string literals using curly braces `{}`. The expressions are evaluated at runtime and formatted using the specified format.\n",
        "\n",
        "2. **'Left Aligned':<15**:\n",
        "    - This part specifies that the string `'Left Aligned'` should be left-aligned within a field of 15 characters.\n",
        "    - `<` indicates left alignment.\n",
        "    - `15` is the total width of the field.\n",
        "    - If the string is shorter than 15 characters, spaces will be added to the right to make up the width.\n",
        "    - Example: `'Left Aligned    '`.\n",
        "\n",
        "3. **'Center Aligned':^15**:\n",
        "    - This part specifies that the string `'Center Aligned'` should be centered within a field of 15 characters.\n",
        "    - `^` indicates center alignment.\n",
        "    - `15` is the total width of the field.\n",
        "    - If the string is shorter than 15 characters, spaces will be added evenly on both sides to center it.\n",
        "    - Example: `' Center Aligned '`.\n",
        "\n",
        "4. **'Right Aligned':>15**:\n",
        "    - This part specifies that the string `'Right Aligned'` should be right-aligned within a field of 15 characters.\n",
        "    - `>` indicates right alignment.\n",
        "    - `15` is the total width of the field.\n",
        "    - If the string is shorter than 15 characters, spaces will be added to the left to make up the width.\n",
        "    - Example: `'    Right Aligned'`.\n",
        "\n",
        "5. **Putting It All Together**:\n",
        "    - The three formatted strings are concatenated with the pipe character `|` in between them.\n",
        "    - This creates a visual separation to demonstrate the alignment."
      ],
      "id": "1uUV7OAtgYco"
    },
    {
      "cell_type": "markdown",
      "metadata": {
        "id": "OzxDmcOZgYco"
      },
      "source": [
        "### Example Output\n",
        "\n",
        "Running the code:\n",
        "\n",
        "```python\n",
        "print(f\"{'Left Aligned':<15} | {'Center Aligned':^15} | {'Right Aligned':>15}\")\n",
        "```\n",
        "\n",
        "will produce:\n",
        "\n",
        "```\n",
        "Left Aligned    |  Center Aligned  |    Right Aligned\n",
        "```\n",
        "\n",
        "### Breakdown of Output\n",
        "\n",
        "1. **Left Aligned**:\n",
        "    - The string `'Left Aligned'` is left-aligned within a field of 15 characters.\n",
        "    - Spaces are added to the right: `'Left Aligned    '`.\n",
        "\n",
        "2. **Center Aligned**:\n",
        "    - The string `'Center Aligned'` is centered within a field of 15 characters.\n",
        "    - Spaces are added on both sides: `' Center Aligned '`.\n",
        "\n",
        "3. **Right Aligned**:\n",
        "    - The string `'Right Aligned'` is right-aligned within a field of 15 characters.\n",
        "    - Spaces are added to the left: `'    Right Aligned'`.\n",
        "\n",
        "This demonstrates how to align text in different ways using f-strings in Python."
      ],
      "id": "OzxDmcOZgYco"
    }
  ],
  "metadata": {
    "kernelspec": {
      "display_name": "Python 3",
      "language": "python",
      "name": "python3"
    },
    "language_info": {
      "codemirror_mode": {
        "name": "ipython",
        "version": 3
      },
      "file_extension": ".py",
      "mimetype": "text/x-python",
      "name": "python",
      "nbconvert_exporter": "python",
      "pygments_lexer": "ipython3",
      "version": "3.8.5"
    },
    "colab": {
      "provenance": []
    }
  },
  "nbformat": 4,
  "nbformat_minor": 5
}