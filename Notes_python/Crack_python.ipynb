{
  "nbformat": 4,
  "nbformat_minor": 0,
  "metadata": {
    "colab": {
      "provenance": []
    },
    "kernelspec": {
      "name": "python3",
      "display_name": "Python 3"
    },
    "language_info": {
      "name": "python"
    }
  },
  "cells": [
    {
      "cell_type": "markdown",
      "source": [
        "1.You are given given task is to print whether array is ‘majestic’ or not.A ‘majsetic’ array is an array whose sum of first three number is equal to last three number.\n",
        "\n",
        "Input Description:\n",
        "You are given a number ‘n’,Next line contains ‘n’ space separated\n",
        "\n",
        "Output Description:\n",
        "Print 1 if array is majestic and 0 if it is not\n",
        "\n",
        "Sample Input :\n",
        "7\n",
        "1 2 3 4 6 0 0\n",
        "Sample Output :\n",
        "1"
      ],
      "metadata": {
        "id": "Dv1KlEylXL0k"
      }
    },
    {
      "cell_type": "code",
      "execution_count": null,
      "metadata": {
        "colab": {
          "base_uri": "https://localhost:8080/"
        },
        "id": "A7MPNVb-XFSS",
        "outputId": "e6c9cf6b-5387-415c-f966-f2f6f78db285"
      },
      "outputs": [
        {
          "output_type": "stream",
          "name": "stdout",
          "text": [
            "Enter number of elements7\n",
            "1,2,3,4,6,0,0\n",
            "first_sum 6\n",
            "last_sum 6\n",
            "1\n"
          ]
        }
      ],
      "source": [
        "n = int(input(\"Enter number of elements\"))\n",
        "num_list = [element for element in map(int,input().split(','))]   # method 1 for reading multiple inputs\n",
        "'''\n",
        "input_list =[]\n",
        "\n",
        "for x in range(n):\n",
        "  value = int(input())\n",
        "  input_list.append[value]\n",
        "'''\n",
        "first_sum=0\n",
        "last_sum = 0\n",
        "for i in range(0 , 3):\n",
        "  first_sum = first_sum+num_list[i]\n",
        "for i in range(-3 , -1):\n",
        "  last_sum = last_sum + num_list[i]\n",
        "print(\"first_sum\" , first_sum)\n",
        "print(\"last_sum\" , last_sum)\n",
        "if first_sum == last_sum:\n",
        "  print(1)\n",
        "else:\n",
        "  print(0)\n",
        "\n"
      ]
    },
    {
      "cell_type": "code",
      "source": [
        "num_list = [item for item in map(int,input().split(','))]\n",
        "if sum(num_list[:3]) == sum(num_list[-3:]):\n",
        "  print(1)\n",
        "else:\n",
        "  print(0)"
      ],
      "metadata": {
        "colab": {
          "base_uri": "https://localhost:8080/"
        },
        "id": "ce0eLQmTeWtj",
        "outputId": "81457319-4cd9-4e39-922c-d38e0944ab54"
      },
      "execution_count": null,
      "outputs": [
        {
          "output_type": "stream",
          "name": "stdout",
          "text": [
            "1,2,3,4,6,0,0\n",
            "1\n"
          ]
        }
      ]
    },
    {
      "cell_type": "markdown",
      "source": [
        "You are provided with a string ‘s’. Your task is to reverse the string using stack Data Structure.\n",
        "\n",
        "\n",
        "\n",
        "Input Description:\n",
        "You are given a string ‘s’.\n",
        "\n",
        "Output Description:\n",
        "Print the reverse string\n",
        "\n",
        "Sample Input :\n",
        "i am jsb\n",
        "Sample Output :\n",
        "jsb am i"
      ],
      "metadata": {
        "id": "Ax5Y70X6gRwz"
      }
    },
    {
      "cell_type": "code",
      "source": [
        "s = input()\n",
        "parts = s.split(' ')\n",
        "p=parts[::-1]\n",
        "#print(*p)\n",
        "res=' '.join(p)\n",
        "print(res)"
      ],
      "metadata": {
        "colab": {
          "base_uri": "https://localhost:8080/"
        },
        "id": "6uEtIQ8HgmyL",
        "outputId": "6914cd0d-879a-49e8-bbc5-9ec352796e29"
      },
      "execution_count": null,
      "outputs": [
        {
          "output_type": "stream",
          "name": "stdout",
          "text": [
            "i am jsb\n",
            "jsb,am,i\n"
          ]
        }
      ]
    },
    {
      "cell_type": "markdown",
      "source": [
        "You are given a number n,ranging from 1 to n. Out of which one number is missing. Your task is to print that missing number.\n",
        "\n",
        "\n",
        "\n",
        "Input Description:\n",
        "You are given a number ‘n’.\n",
        "\n",
        "Output Description:\n",
        "Print the missing number.\n",
        "\n",
        "Sample Input :\n",
        "5\n",
        "1 3 5 2\n",
        "Sample Output :\n",
        "4"
      ],
      "metadata": {
        "id": "P9yo278biCW1"
      }
    },
    {
      "cell_type": "code",
      "source": [
        "limit  = int(input())\n",
        "input_array = [item for item in map(int,input().split(','))]\n",
        "required =set( [x for x in range(1,limit)])\n",
        "input_array =set(input_array)\n",
        "diff = required.difference(input_array)\n",
        "print(*diff)\n"
      ],
      "metadata": {
        "colab": {
          "base_uri": "https://localhost:8080/"
        },
        "id": "dUtSRdmBiBfE",
        "outputId": "daba00eb-1cde-46ba-f673-c0d2c2eebe8f"
      },
      "execution_count": null,
      "outputs": [
        {
          "output_type": "stream",
          "name": "stdout",
          "text": [
            "5\n",
            "1,3,5,2\n",
            "4\n"
          ]
        }
      ]
    },
    {
      "cell_type": "markdown",
      "source": [
        "Given two numbers N,K(N>=K) and an array of N elements, write a program to find the Kth largest element.\n",
        "Input Size : 1 <= K <= N <= 100000\n",
        "Sample Testcases :\n",
        "INPUT\n",
        "6 2\n",
        "1 2 3 4 5 6\n",
        "OUTPUT\n",
        "5"
      ],
      "metadata": {
        "id": "kX_sLRGzkPVx"
      }
    },
    {
      "cell_type": "code",
      "source": [
        "n = int(input())\n",
        "k = int(input())\n",
        "input_array = [x for x in map(int,input().split(' '))]\n",
        "input_array.sort()\n",
        "print(input_array[-k])"
      ],
      "metadata": {
        "colab": {
          "base_uri": "https://localhost:8080/"
        },
        "id": "Pbep2B87kgK6",
        "outputId": "9ded50fc-a61c-47f7-deeb-12dc34516a0d"
      },
      "execution_count": null,
      "outputs": [
        {
          "output_type": "stream",
          "name": "stdout",
          "text": [
            "6\n",
            "2\n",
            "1 2 3 4 5 6\n",
            "5\n"
          ]
        }
      ]
    }
  ]
}