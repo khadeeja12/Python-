{
  "cells": [
    {
      "cell_type": "markdown",
      "metadata": {
        "id": "BvDj07GJM7hN"
      },
      "source": [
        "# List Methods in Python\n",
        "\n",
        "This notebook provides a comprehensive overview of all the list methods available in Python with examples."
      ]
    },
    {
      "cell_type": "markdown",
      "metadata": {
        "id": "crGgEZEaM7hP"
      },
      "source": [
        "## 1. `append()`\n",
        "Add an element to the end of the list."
      ]
    },
    {
      "cell_type": "code",
      "execution_count": null,
      "metadata": {
        "colab": {
          "base_uri": "https://localhost:8080/"
        },
        "id": "jwsqYc3IM7hQ",
        "outputId": "bf1df269-3c55-4ff2-b53c-6ae24f7894d7"
      },
      "outputs": [
        {
          "output_type": "stream",
          "name": "stdout",
          "text": [
            "[1, 2, 3, 4]\n",
            "[1, 2, 3, 4, 5]\n"
          ]
        }
      ],
      "source": [
        "my_list = [1, 2, 3]\n",
        "my_list.append(4)\n",
        "print(my_list)  # Output: [1, 2, 3, 4]\n",
        "my_list.append(5)\n",
        "print(my_list)"
      ]
    },
    {
      "cell_type": "markdown",
      "metadata": {
        "id": "hwdKqSIQM7hS"
      },
      "source": [
        "## 2. `extend()`\n",
        "Extend the list by appending all the items from the iterable."
      ]
    },
    {
      "cell_type": "code",
      "execution_count": null,
      "metadata": {
        "colab": {
          "base_uri": "https://localhost:8080/"
        },
        "id": "ZM58H5vBM7hS",
        "outputId": "cb030f07-49b7-4346-d92a-92792c66819e"
      },
      "outputs": [
        {
          "output_type": "stream",
          "name": "stdout",
          "text": [
            "[1, 2, 3, 4, 5]\n"
          ]
        }
      ],
      "source": [
        "my_list = [1, 2, 3]\n",
        "my_list.extend([4, 5])\n",
        "print(my_list)  # Output: [1, 2, 3, 4, 5]"
      ]
    },
    {
      "cell_type": "markdown",
      "metadata": {
        "id": "OiUkq35bM7hT"
      },
      "source": [
        "## 3. `insert()`\n",
        "Insert an element at a given position."
      ]
    },
    {
      "cell_type": "code",
      "execution_count": null,
      "metadata": {
        "colab": {
          "base_uri": "https://localhost:8080/"
        },
        "id": "UXEVc08fM7hT",
        "outputId": "18b08558-4156-4854-b248-13e0853f4114"
      },
      "outputs": [
        {
          "output_type": "stream",
          "name": "stdout",
          "text": [
            "[1, 'a', 2, 3]\n",
            "[1, 'a', 100, 2, 3]\n"
          ]
        }
      ],
      "source": [
        "my_list = [1, 2, 3]\n",
        "my_list.insert(1, 'a')\n",
        "print(my_list)  # Output: [1, 'a', 2, 3]\n",
        "my_list.insert(2,100)\n",
        "print(my_list)"
      ]
    },
    {
      "cell_type": "markdown",
      "metadata": {
        "id": "-UHd1KjHM7hU"
      },
      "source": [
        "## 4. `remove()`\n",
        "Remove the first item from the list whose value is equal to x."
      ]
    },
    {
      "cell_type": "code",
      "execution_count": null,
      "metadata": {
        "id": "qDUooKNDM7hU"
      },
      "outputs": [],
      "source": [
        "my_list = [1, 2, 3, 2]\n",
        "my_list.remove(2)\n",
        "print(my_list)  # Output: [1, 3, 2]"
      ]
    },
    {
      "cell_type": "markdown",
      "metadata": {
        "id": "jOixnNI2M7hU"
      },
      "source": [
        "## 5. `pop()`\n",
        "Remove and return the item at the given position (default is the last item)."
      ]
    },
    {
      "cell_type": "code",
      "execution_count": null,
      "metadata": {
        "colab": {
          "base_uri": "https://localhost:8080/"
        },
        "id": "jQSqn7iGM7hV",
        "outputId": "4cb78ae2-ee36-40f8-d2aa-04ae483abfac"
      },
      "outputs": [
        {
          "output_type": "stream",
          "name": "stdout",
          "text": [
            "3\n",
            "[1, 2]\n"
          ]
        }
      ],
      "source": [
        "my_list = [1, 2, 3]\n",
        "item = my_list.pop()\n",
        "print(item)  # Output: 3\n",
        "print(my_list)  # Output: [1, 2]"
      ]
    },
    {
      "cell_type": "markdown",
      "metadata": {
        "id": "3omaGpz6M7hW"
      },
      "source": [
        "## 6. `clear()`\n",
        "Remove all items from the list."
      ]
    },
    {
      "cell_type": "code",
      "execution_count": null,
      "metadata": {
        "colab": {
          "base_uri": "https://localhost:8080/"
        },
        "id": "w2VTgkEwM7hW",
        "outputId": "c631600a-89e3-4bc0-a45f-25098a76aca5"
      },
      "outputs": [
        {
          "output_type": "stream",
          "name": "stdout",
          "text": [
            "[]\n"
          ]
        }
      ],
      "source": [
        "my_list = [1, 2, 3]\n",
        "my_list.clear()\n",
        "print(my_list)  # Output: []"
      ]
    },
    {
      "cell_type": "markdown",
      "metadata": {
        "id": "DXCIJmd4M7hW"
      },
      "source": [
        "## 7. `index()`\n",
        "Return the index of the first item whose value is equal to x."
      ]
    },
    {
      "cell_type": "code",
      "execution_count": null,
      "metadata": {
        "colab": {
          "base_uri": "https://localhost:8080/"
        },
        "id": "N9X0isUBM7hW",
        "outputId": "b38f4748-4ce4-4bcc-e802-1bbf463b0afc"
      },
      "outputs": [
        {
          "output_type": "stream",
          "name": "stdout",
          "text": [
            "2\n"
          ]
        }
      ],
      "source": [
        "my_list = [1, 2, 3, 2]\n",
        "fruits = [\"apple\" , \"orange\" , \"banana\",\"apple\"]\n",
        "fruit_index =fruits.index(\"banana\")\n",
        "print(fruit_index)\n",
        "index = my_list.index(2)\n",
        "#print(index)  # Output: 1"
      ]
    },
    {
      "cell_type": "markdown",
      "metadata": {
        "id": "rc_Oh1ycM7hX"
      },
      "source": [
        "## 8. `count()`\n",
        "Return the number of times x appears in the list."
      ]
    },
    {
      "cell_type": "code",
      "execution_count": null,
      "metadata": {
        "colab": {
          "base_uri": "https://localhost:8080/"
        },
        "id": "o6Oj2d_HM7hX",
        "outputId": "bf30fc4e-20ea-4b1b-f230-a01ff82ef0d4"
      },
      "outputs": [
        {
          "output_type": "stream",
          "name": "stdout",
          "text": [
            "1\n"
          ]
        }
      ],
      "source": [
        "my_list = [1, 2, 2, 3]\n",
        "count = my_list.count(1)\n",
        "print(count)  # Output: 2"
      ]
    },
    {
      "cell_type": "markdown",
      "metadata": {
        "id": "7pI7YfK2M7hY"
      },
      "source": [
        "## 9. `sort()`\n",
        "Sort the items of the list in place."
      ]
    },
    {
      "cell_type": "code",
      "execution_count": null,
      "metadata": {
        "colab": {
          "base_uri": "https://localhost:8080/"
        },
        "id": "mKENjP65M7hZ",
        "outputId": "2f162986-1f82-46c9-8bdf-b2466a5f8681"
      },
      "outputs": [
        {
          "output_type": "stream",
          "name": "stdout",
          "text": [
            "[3, 2, 1]\n"
          ]
        }
      ],
      "source": [
        "my_list = [3, 1, 2]\n",
        "my_list.sort(reverse = True)\n",
        "print(my_list)  # Output: [1, 2, 3]"
      ]
    },
    {
      "cell_type": "markdown",
      "metadata": {
        "id": "nqXYY_QJM7hZ"
      },
      "source": [
        "## 10. `reverse()`\n",
        "Reverse the elements of the list in place."
      ]
    },
    {
      "cell_type": "code",
      "execution_count": null,
      "metadata": {
        "colab": {
          "base_uri": "https://localhost:8080/"
        },
        "id": "87lBccFpM7hZ",
        "outputId": "a23f50af-1cf2-460d-f5fe-8a4c0edcdcdd"
      },
      "outputs": [
        {
          "output_type": "stream",
          "name": "stdout",
          "text": [
            "[3, 2, 1]\n"
          ]
        }
      ],
      "source": [
        "my_list = [1, 2, 3]\n",
        "my_list.reverse()\n",
        "print(my_list)  # Output: [3, 2, 1]"
      ]
    },
    {
      "cell_type": "markdown",
      "metadata": {
        "id": "ZPwE3BXvM7ha"
      },
      "source": [
        "## 11. `copy()`\n",
        "Return a shallow copy of the list."
      ]
    },
    {
      "cell_type": "code",
      "execution_count": null,
      "metadata": {
        "colab": {
          "base_uri": "https://localhost:8080/"
        },
        "id": "H6YeRxQLM7ha",
        "outputId": "a884933c-5839-4965-d365-225634abf3b5"
      },
      "outputs": [
        {
          "output_type": "stream",
          "name": "stdout",
          "text": [
            "[1, 2, 3]\n"
          ]
        }
      ],
      "source": [
        "my_list = [1, 2, 3]\n",
        "my_list_copy = my_list.copy()\n",
        "print(my_list_copy)  # Output: [1, 2, 3]"
      ]
    }
  ],
  "metadata": {
    "kernelspec": {
      "display_name": "Python 3",
      "language": "python",
      "name": "python3"
    },
    "language_info": {
      "codemirror_mode": {
        "name": "ipython",
        "version": 3
      },
      "file_extension": ".py",
      "mimetype": "text/x-python",
      "name": "python",
      "nbconvert_exporter": "python",
      "pygments_lexer": "ipython3",
      "version": "3.8.5"
    },
    "colab": {
      "provenance": []
    }
  },
  "nbformat": 4,
  "nbformat_minor": 0
}