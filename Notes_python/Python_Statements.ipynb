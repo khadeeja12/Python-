{
 "cells": [
  {
   "cell_type": "markdown",
   "id": "da31bd07",
   "metadata": {},
   "source": [
    "# Python Statements"
   ]
  },
  {
   "cell_type": "markdown",
   "id": "d53706aa",
   "metadata": {},
   "source": [
    "## 1. Selection Statements"
   ]
  },
  {
   "cell_type": "markdown",
   "id": "7f62dec0",
   "metadata": {},
   "source": [
    "Selection statements allow the program to choose different paths of execution based on the outcome of a condition. In Python, we use `if`, `elif`, and `else` for selection."
   ]
  },
  {
   "cell_type": "markdown",
   "id": "580643b0",
   "metadata": {},
   "source": [
    "#### If Statement"
   ]
  },
  {
   "cell_type": "code",
   "execution_count": null,
   "id": "9d06d0e7",
   "metadata": {},
   "outputs": [],
   "source": [
    "# If statement\n",
    "x = 10\n",
    "if x > 5:\n",
    "    print(\"x is greater than 5\")"
   ]
  },
  {
   "cell_type": "markdown",
   "id": "c1a014c7",
   "metadata": {},
   "source": [
    "#### If-Else Statement"
   ]
  },
  {
   "cell_type": "code",
   "execution_count": null,
   "id": "fcad1e9a",
   "metadata": {},
   "outputs": [],
   "source": [
    "# If-Else statement\n",
    "x = 3\n",
    "if x > 5:\n",
    "    print(\"x is greater than 5\")\n",
    "else:\n",
    "    print(\"x is not greater than 5\")"
   ]
  },
  {
   "cell_type": "markdown",
   "id": "56acdc38",
   "metadata": {},
   "source": [
    "#### If-Elif-Else Statement"
   ]
  },
  {
   "cell_type": "code",
   "execution_count": null,
   "id": "d9fbfc64",
   "metadata": {},
   "outputs": [],
   "source": [
    "# If-Elif-Else statement\n",
    "x = 5\n",
    "if x > 5:\n",
    "    print(\"x is greater than 5\")\n",
    "elif x == 5:\n",
    "    print(\"x is equal to 5\")\n",
    "else:\n",
    "    print(\"x is less than 5\")"
   ]
  },
  {
   "cell_type": "markdown",
   "id": "2362d6ed",
   "metadata": {},
   "source": [
    "## 2. Iterative Statements"
   ]
  },
  {
   "cell_type": "markdown",
   "id": "d85f00dd",
   "metadata": {},
   "source": [
    "Iterative statements are used to execute a block of code repeatedly. In Python, we use `for` and `while` loops for iteration."
   ]
  },
  {
   "cell_type": "markdown",
   "id": "427d549c",
   "metadata": {},
   "source": [
    "#### While Loop"
   ]
  },
  {
   "cell_type": "code",
   "execution_count": null,
   "id": "7c7409eb",
   "metadata": {},
   "outputs": [],
   "source": [
    "# While loop\n",
    "count = 0\n",
    "while count < 5:\n",
    "    print(count)\n",
    "    count += 1"
   ]
  },
  {
   "cell_type": "markdown",
   "id": "83e1ff4d",
   "metadata": {},
   "source": [
    "## 3. For Loop"
   ]
  },
  {
   "cell_type": "markdown",
   "id": "3b8f2c9e",
   "metadata": {},
   "source": [
    "A `for` loop is used to iterate over a sequence (like a list, tuple, dictionary, set, or string) with the following syntax:"
   ]
  },
  {
   "cell_type": "code",
   "execution_count": null,
   "id": "da0a8bdf",
   "metadata": {},
   "outputs": [],
   "source": [
    "# For loop with a list\n",
    "numbers = [1, 2, 3, 4, 5]\n",
    "for num in numbers:\n",
    "    print(num)"
   ]
  },
  {
   "cell_type": "markdown",
   "id": "703a9ad1",
   "metadata": {},
   "source": [
    "#### For Loop with Range"
   ]
  },
  {
   "cell_type": "code",
   "execution_count": null,
   "id": "29c53d1f",
   "metadata": {},
   "outputs": [],
   "source": [
    "# For loop with range\n",
    "for i in range(5):\n",
    "    print(i)"
   ]
  },
  {
   "cell_type": "markdown",
   "id": "6d093bc5",
   "metadata": {},
   "source": [
    "#### For Loop with String"
   ]
  },
  {
   "cell_type": "code",
   "execution_count": null,
   "id": "b4058d29",
   "metadata": {},
   "outputs": [],
   "source": [
    "# For loop with string\n",
    "s = \"Hello\"\n",
    "for char in s:\n",
    "    print(char)"
   ]
  },
  {
   "cell_type": "markdown",
   "id": "509a3f67",
   "metadata": {},
   "source": [
    "#### Nested For Loop"
   ]
  },
  {
   "cell_type": "code",
   "execution_count": null,
   "id": "dafc4db0",
   "metadata": {},
   "outputs": [],
   "source": [
    "# Nested for loop\n",
    "for i in range(3):\n",
    "    for j in range(3):\n",
    "        print(f\"i = {i}, j = {j}\")"
   ]
  },
  {
   "cell_type": "markdown",
   "id": "b10953cb",
   "metadata": {},
   "source": [
    "### Different Forms of For Loops"
   ]
  },
  {
   "cell_type": "markdown",
   "id": "d7a018d5",
   "metadata": {},
   "source": [
    "#### For Loop with List Comprehension"
   ]
  },
  {
   "cell_type": "code",
   "execution_count": null,
   "id": "a799d0f4",
   "metadata": {},
   "outputs": [],
   "source": [
    "# List comprehension\n",
    "squares = [x**2 for x in range(10)]\n",
    "print(squares)"
   ]
  },
  {
   "cell_type": "markdown",
   "id": "46c93113",
   "metadata": {},
   "source": [
    "#### For Loop with Dictionary"
   ]
  },
  {
   "cell_type": "code",
   "execution_count": null,
   "id": "409dae06",
   "metadata": {},
   "outputs": [],
   "source": [
    "# For loop with dictionary\n",
    "d = {'a': 1, 'b': 2, 'c': 3}\n",
    "for key, value in d.items():\n",
    "    print(f\"key = {key}, value = {value}\")"
   ]
  },
  {
   "cell_type": "markdown",
   "id": "4cc2a9a2",
   "metadata": {},
   "source": [
    "#### For Loop with Enumerate"
   ]
  },
  {
   "cell_type": "code",
   "execution_count": null,
   "id": "f3c9dfce",
   "metadata": {},
   "outputs": [],
   "source": [
    "# For loop with enumerate\n",
    "words = ['apple', 'banana', 'cherry']\n",
    "for index, word in enumerate(words):\n",
    "    print(f\"index = {index}, word = {word}\")"
   ]
  }
 ],
 "metadata": {},
 "nbformat": 4,
 "nbformat_minor": 5
}
