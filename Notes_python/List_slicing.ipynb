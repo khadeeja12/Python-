{
  "cells": [
    {
      "cell_type": "markdown",
      "metadata": {
        "id": "uIFZhTjV9_CO"
      },
      "source": [
        "## List Slicing\n"
      ]
    },
    {
      "cell_type": "markdown",
      "metadata": {
        "id": "XGJT8OoH9_CP"
      },
      "source": [
        "### Basic Slicing"
      ]
    },
    {
      "cell_type": "code",
      "execution_count": null,
      "metadata": {
        "id": "zJqJoRzv9_CP",
        "colab": {
          "base_uri": "https://localhost:8080/"
        },
        "outputId": "be82304e-9f3a-49f9-9179-64a7fc7efd7f"
      },
      "outputs": [
        {
          "output_type": "stream",
          "name": "stdout",
          "text": [
            "Original list: [0, 1, 2, 3, 4, 5, 6, 7, 8, 9]\n",
            "Sliced list [2:5]: [2, 3, 4]\n",
            "Sliced list [:4]: [0, 1, 2, 3]\n",
            "Sliced list [6:]: [6, 7, 8, 9]\n"
          ]
        }
      ],
      "source": [
        "# Basic Slicing\n",
        "my_list = [0, 1, 2, 3, 4, 5, 6, 7, 8, 9]\n",
        "print(\"Original list:\", my_list)\n",
        "print(\"Sliced list [2:5]:\", my_list[2:5])\n",
        "  # Output: [2, 3, 4]\n",
        "print(\"Sliced list [:4]:\", my_list[:4])    # Output: [0, 1, 2, 3]\n",
        "print(\"Sliced list [6:]:\", my_list[6:])    # Output: [6, 7, 8, 9]"
      ]
    },
    {
      "cell_type": "markdown",
      "metadata": {
        "id": "RA0-sKK59_CP"
      },
      "source": [
        "### Slicing with Steps"
      ]
    },
    {
      "cell_type": "code",
      "execution_count": null,
      "metadata": {
        "id": "aXTaSgeW9_CP",
        "colab": {
          "base_uri": "https://localhost:8080/"
        },
        "outputId": "078d1977-4cfa-4f6e-8682-abdcb5fb0c3d"
      },
      "outputs": [
        {
          "output_type": "stream",
          "name": "stdout",
          "text": [
            "Sliced list [::2]: [0, 2, 4, 6, 8]\n",
            "Sliced list [1:8:2]: [1, 3, 5, 7]\n"
          ]
        }
      ],
      "source": [
        "# Slicing with Steps\n",
        "print(\"Sliced list [::2]:\", my_list[::2])   # Output: [0, 2, 4, 6, 8]\n",
        "print(\"Sliced list [1:8:2]:\", my_list[1:8:2])  # Output: [1, 3, 5, 7]"
      ]
    },
    {
      "cell_type": "markdown",
      "metadata": {
        "id": "QVOUGnO59_CQ"
      },
      "source": [
        "### Negative Indexing"
      ]
    },
    {
      "cell_type": "code",
      "execution_count": null,
      "metadata": {
        "id": "Y0xZzIFO9_CQ",
        "colab": {
          "base_uri": "https://localhost:8080/"
        },
        "outputId": "b9677563-34da-41d6-86db-0b229a29b0e9"
      },
      "outputs": [
        {
          "output_type": "stream",
          "name": "stdout",
          "text": [
            "Sliced list [-5:-2]: [5, 6, 7]\n",
            "Sliced list [-3:]: [7, 8, 9]\n",
            "Sliced list [:-6]: [0, 1, 2, 3]\n"
          ]
        }
      ],
      "source": [
        "# Negative Indexing\n",
        "print(\"Sliced list [-5:-2]:\", my_list[-5:-2])  # Output: [5, 6, 7]\n",
        "print(\"Sliced list [-3:]:\", my_list[-3:])      # Output: [7, 8, 9]\n",
        "print(\"Sliced list [:-6]:\", my_list[:-6])      # Output: [0, 1, 2, 3]"
      ]
    },
    {
      "cell_type": "markdown",
      "metadata": {
        "id": "_fcezJj99_CQ"
      },
      "source": [
        "### Reverse Slicing"
      ]
    },
    {
      "cell_type": "code",
      "execution_count": null,
      "metadata": {
        "id": "6W5O6a8x9_CQ",
        "colab": {
          "base_uri": "https://localhost:8080/"
        },
        "outputId": "b30207a8-727e-47c2-bfae-c39f5595ef31"
      },
      "outputs": [
        {
          "output_type": "stream",
          "name": "stdout",
          "text": [
            "Sliced list [::-1]: [9, 8, 7, 6, 5, 4, 3, 2, 1, 0]\n",
            "Sliced list [7:2:-1]: [7, 6, 5, 4, 3]\n"
          ]
        }
      ],
      "source": [
        "# Reverse Slicing\n",
        "print(\"Sliced list [::-1]:\", my_list[::-1])   # Output: [9, 8, 7, 6, 5, 4, 3, 2, 1, 0]\n",
        "print(\"Sliced list [7:2:-1]:\", my_list[7:2:-1])  # Output: [7, 6, 5, 4, 3]"
      ]
    },
    {
      "cell_type": "markdown",
      "metadata": {
        "id": "WdNPPUA-9_CQ"
      },
      "source": [
        "### Slicing to Modify Lists"
      ]
    },
    {
      "cell_type": "code",
      "execution_count": null,
      "metadata": {
        "id": "9De88NmL9_CQ",
        "colab": {
          "base_uri": "https://localhost:8080/"
        },
        "outputId": "267ffb19-a40c-4f1a-dea8-c06669bfd44e"
      },
      "outputs": [
        {
          "output_type": "stream",
          "name": "stdout",
          "text": [
            "Modified list: [0, 1, 20, 30, 40, 5, 6, 7, 8, 9]\n"
          ]
        }
      ],
      "source": [
        "# Slicing to Modify Lists\n",
        "my_list[2:5] = [20, 30, 40]\n",
        "print(\"Modified list:\", my_list)  # Output: [0, 1, 20, 30, 40, 5, 6, 7, 8, 9]"
      ]
    },
    {
      "cell_type": "markdown",
      "metadata": {
        "id": "IumvPh1g9_CQ"
      },
      "source": [
        "## List Comprehension\n"
      ]
    },
    {
      "cell_type": "markdown",
      "metadata": {
        "id": "ZE1amFoQ9_CQ"
      },
      "source": [
        "### Basic List Comprehension"
      ]
    },
    {
      "cell_type": "code",
      "execution_count": null,
      "metadata": {
        "id": "O0kgiMGb9_CQ",
        "colab": {
          "base_uri": "https://localhost:8080/"
        },
        "outputId": "ad9f7112-7641-44e1-c3fd-d5958916737f"
      },
      "outputs": [
        {
          "output_type": "stream",
          "name": "stdout",
          "text": [
            "List of squares: [0, 1, 4, 9, 16, 25, 36, 49, 64, 81]\n"
          ]
        }
      ],
      "source": [
        "# Basic List Comprehension\n",
        "squares = [x**2 for x in range(10)]\n",
        "print(\"List of squares:\", squares)  # Output: [0, 1, 4, 9, 16, 25, 36, 49, 64, 81]"
      ]
    },
    {
      "cell_type": "markdown",
      "metadata": {
        "id": "mi1-_0fI9_CQ"
      },
      "source": [
        "### Conditional List Comprehension"
      ]
    },
    {
      "cell_type": "code",
      "execution_count": null,
      "metadata": {
        "id": "yugEOoBJ9_CQ",
        "colab": {
          "base_uri": "https://localhost:8080/"
        },
        "outputId": "b5439336-8db0-4aef-b2ad-c4ef33c94b84"
      },
      "outputs": [
        {
          "output_type": "stream",
          "name": "stdout",
          "text": [
            "List of even squares: [0, 4, 16, 36, 64]\n"
          ]
        }
      ],
      "source": [
        "# Conditional List Comprehension\n",
        "even_squares = [x**2 for x in range(10) if x % 2 == 0]\n",
        "print(\"List of even squares:\", even_squares)  # Output: [0, 4, 16, 36, 64]"
      ]
    },
    {
      "cell_type": "markdown",
      "metadata": {
        "id": "xFkCFP3o9_CQ"
      },
      "source": [
        "### Nested List Comprehension"
      ]
    },
    {
      "cell_type": "code",
      "execution_count": null,
      "metadata": {
        "id": "JD-LTVrF9_CQ"
      },
      "outputs": [],
      "source": [
        "# Nested List Comprehension\n",
        "matrix = [[j for j in range(5)] for i in range(3)]\n",
        "print(\"2D Matrix:\", matrix)  # Output: [[0, 1, 2, 3, 4], [0, 1, 2, 3, 4], [0, 1, 2, 3, 4]]"
      ]
    },
    {
      "cell_type": "markdown",
      "metadata": {
        "id": "kuYVubtW9_CQ"
      },
      "source": [
        "### Using Functions in List Comprehension"
      ]
    },
    {
      "cell_type": "code",
      "execution_count": null,
      "metadata": {
        "id": "ypURXdf19_CQ"
      },
      "outputs": [],
      "source": [
        "# Using Functions in List Comprehension\n",
        "def square(x):\n",
        "    return x**2\n",
        "\n",
        "squared_numbers = [square(x) for x in range(10)]\n",
        "print(\"List of squared numbers using function:\", squared_numbers)  # Output: [0, 1, 4, 9, 16, 25, 36, 49, 64, 81]"
      ]
    },
    {
      "cell_type": "code",
      "source": [
        "#map  :an alternative to for loop , mapping items\n",
        "l=[1,2,3,4,5]\n",
        "res = list(map(lambda x: x*5 , l))\n",
        "print(res)"
      ],
      "metadata": {
        "colab": {
          "base_uri": "https://localhost:8080/"
        },
        "id": "zIG1kE-N-PiD",
        "outputId": "355d2f70-f3db-40a4-f2df-78418af028fb"
      },
      "execution_count": null,
      "outputs": [
        {
          "output_type": "stream",
          "name": "stdout",
          "text": [
            "[5, 10, 15, 20, 25]\n"
          ]
        }
      ]
    },
    {
      "cell_type": "code",
      "source": [
        "def multiply_num(item):\n",
        "  return item * 5\n",
        "\n",
        "l=[1,2,3,4,5]\n",
        "res = list(map(multiply_num , l))\n",
        "print(res)"
      ],
      "metadata": {
        "colab": {
          "base_uri": "https://localhost:8080/"
        },
        "id": "n8aZ4nw6-oIM",
        "outputId": "3f9ed46a-e849-44fe-e546-ffc8b97ea2e5"
      },
      "execution_count": null,
      "outputs": [
        {
          "output_type": "stream",
          "name": "stdout",
          "text": [
            "[5, 10, 15, 20, 25]\n"
          ]
        }
      ]
    }
  ],
  "metadata": {
    "kernelspec": {
      "display_name": "Python 3",
      "language": "python",
      "name": "python3"
    },
    "language_info": {
      "codemirror_mode": {
        "name": "ipython",
        "version": 3
      },
      "file_extension": ".py",
      "mimetype": "text/x-python",
      "name": "python",
      "nbconvert_exporter": "python",
      "pygments_lexer": "ipython3",
      "version": "3.8.5"
    },
    "colab": {
      "provenance": []
    }
  },
  "nbformat": 4,
  "nbformat_minor": 0
}